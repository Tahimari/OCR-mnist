{
  "nbformat": 4,
  "nbformat_minor": 0,
  "metadata": {
    "colab": {
      "name": "Pojedyncze znaki.ipynb",
      "provenance": [],
      "collapsed_sections": []
    },
    "kernelspec": {
      "name": "python3",
      "display_name": "Python 3"
    },
    "language_info": {
      "name": "python"
    },
    "accelerator": "GPU",
    "widgets": {
      "application/vnd.jupyter.widget-state+json": {
        "d63865d1ab6643169fa5d44b029761fa": {
          "model_module": "@jupyter-widgets/controls",
          "model_name": "HBoxModel",
          "model_module_version": "1.5.0",
          "state": {
            "_view_name": "HBoxView",
            "_dom_classes": [],
            "_model_name": "HBoxModel",
            "_view_module": "@jupyter-widgets/controls",
            "_model_module_version": "1.5.0",
            "_view_count": null,
            "_view_module_version": "1.5.0",
            "box_style": "",
            "layout": "IPY_MODEL_bfc1578834264ee79f94cbb4c1e36ca6",
            "_model_module": "@jupyter-widgets/controls",
            "children": [
              "IPY_MODEL_5e3ea13e1c654346943dcf4b0af10cbe",
              "IPY_MODEL_1a26b46c1e634354bcbda9dcd3a11505"
            ]
          }
        },
        "bfc1578834264ee79f94cbb4c1e36ca6": {
          "model_module": "@jupyter-widgets/base",
          "model_name": "LayoutModel",
          "model_module_version": "1.2.0",
          "state": {
            "_view_name": "LayoutView",
            "grid_template_rows": null,
            "right": null,
            "justify_content": null,
            "_view_module": "@jupyter-widgets/base",
            "overflow": null,
            "_model_module_version": "1.2.0",
            "_view_count": null,
            "flex_flow": null,
            "width": null,
            "min_width": null,
            "border": null,
            "align_items": null,
            "bottom": null,
            "_model_module": "@jupyter-widgets/base",
            "top": null,
            "grid_column": null,
            "overflow_y": null,
            "overflow_x": null,
            "grid_auto_flow": null,
            "grid_area": null,
            "grid_template_columns": null,
            "flex": null,
            "_model_name": "LayoutModel",
            "justify_items": null,
            "grid_row": null,
            "max_height": null,
            "align_content": null,
            "visibility": null,
            "align_self": null,
            "height": null,
            "min_height": null,
            "padding": null,
            "grid_auto_rows": null,
            "grid_gap": null,
            "max_width": null,
            "order": null,
            "_view_module_version": "1.2.0",
            "grid_template_areas": null,
            "object_position": null,
            "object_fit": null,
            "grid_auto_columns": null,
            "margin": null,
            "display": null,
            "left": null
          }
        },
        "5e3ea13e1c654346943dcf4b0af10cbe": {
          "model_module": "@jupyter-widgets/controls",
          "model_name": "FloatProgressModel",
          "model_module_version": "1.5.0",
          "state": {
            "_view_name": "ProgressView",
            "style": "IPY_MODEL_b0ea9a20fb014d8c9852dc7ac2dcb8d2",
            "_dom_classes": [],
            "description": "",
            "_model_name": "FloatProgressModel",
            "bar_style": "success",
            "max": 9912422,
            "_view_module": "@jupyter-widgets/controls",
            "_model_module_version": "1.5.0",
            "value": 9912422,
            "_view_count": null,
            "_view_module_version": "1.5.0",
            "orientation": "horizontal",
            "min": 0,
            "description_tooltip": null,
            "_model_module": "@jupyter-widgets/controls",
            "layout": "IPY_MODEL_9d3fc2da6e804dbc8948a90d41fc2d8e"
          }
        },
        "1a26b46c1e634354bcbda9dcd3a11505": {
          "model_module": "@jupyter-widgets/controls",
          "model_name": "HTMLModel",
          "model_module_version": "1.5.0",
          "state": {
            "_view_name": "HTMLView",
            "style": "IPY_MODEL_3b8fe17878204783abb9bd4f7922b86f",
            "_dom_classes": [],
            "description": "",
            "_model_name": "HTMLModel",
            "placeholder": "​",
            "_view_module": "@jupyter-widgets/controls",
            "_model_module_version": "1.5.0",
            "value": " 9913344/? [04:03&lt;00:00, 40715.01it/s]",
            "_view_count": null,
            "_view_module_version": "1.5.0",
            "description_tooltip": null,
            "_model_module": "@jupyter-widgets/controls",
            "layout": "IPY_MODEL_427c35f593cd443da40def36ec61c60d"
          }
        },
        "b0ea9a20fb014d8c9852dc7ac2dcb8d2": {
          "model_module": "@jupyter-widgets/controls",
          "model_name": "ProgressStyleModel",
          "model_module_version": "1.5.0",
          "state": {
            "_view_name": "StyleView",
            "_model_name": "ProgressStyleModel",
            "description_width": "initial",
            "_view_module": "@jupyter-widgets/base",
            "_model_module_version": "1.5.0",
            "_view_count": null,
            "_view_module_version": "1.2.0",
            "bar_color": null,
            "_model_module": "@jupyter-widgets/controls"
          }
        },
        "9d3fc2da6e804dbc8948a90d41fc2d8e": {
          "model_module": "@jupyter-widgets/base",
          "model_name": "LayoutModel",
          "model_module_version": "1.2.0",
          "state": {
            "_view_name": "LayoutView",
            "grid_template_rows": null,
            "right": null,
            "justify_content": null,
            "_view_module": "@jupyter-widgets/base",
            "overflow": null,
            "_model_module_version": "1.2.0",
            "_view_count": null,
            "flex_flow": null,
            "width": null,
            "min_width": null,
            "border": null,
            "align_items": null,
            "bottom": null,
            "_model_module": "@jupyter-widgets/base",
            "top": null,
            "grid_column": null,
            "overflow_y": null,
            "overflow_x": null,
            "grid_auto_flow": null,
            "grid_area": null,
            "grid_template_columns": null,
            "flex": null,
            "_model_name": "LayoutModel",
            "justify_items": null,
            "grid_row": null,
            "max_height": null,
            "align_content": null,
            "visibility": null,
            "align_self": null,
            "height": null,
            "min_height": null,
            "padding": null,
            "grid_auto_rows": null,
            "grid_gap": null,
            "max_width": null,
            "order": null,
            "_view_module_version": "1.2.0",
            "grid_template_areas": null,
            "object_position": null,
            "object_fit": null,
            "grid_auto_columns": null,
            "margin": null,
            "display": null,
            "left": null
          }
        },
        "3b8fe17878204783abb9bd4f7922b86f": {
          "model_module": "@jupyter-widgets/controls",
          "model_name": "DescriptionStyleModel",
          "model_module_version": "1.5.0",
          "state": {
            "_view_name": "StyleView",
            "_model_name": "DescriptionStyleModel",
            "description_width": "",
            "_view_module": "@jupyter-widgets/base",
            "_model_module_version": "1.5.0",
            "_view_count": null,
            "_view_module_version": "1.2.0",
            "_model_module": "@jupyter-widgets/controls"
          }
        },
        "427c35f593cd443da40def36ec61c60d": {
          "model_module": "@jupyter-widgets/base",
          "model_name": "LayoutModel",
          "model_module_version": "1.2.0",
          "state": {
            "_view_name": "LayoutView",
            "grid_template_rows": null,
            "right": null,
            "justify_content": null,
            "_view_module": "@jupyter-widgets/base",
            "overflow": null,
            "_model_module_version": "1.2.0",
            "_view_count": null,
            "flex_flow": null,
            "width": null,
            "min_width": null,
            "border": null,
            "align_items": null,
            "bottom": null,
            "_model_module": "@jupyter-widgets/base",
            "top": null,
            "grid_column": null,
            "overflow_y": null,
            "overflow_x": null,
            "grid_auto_flow": null,
            "grid_area": null,
            "grid_template_columns": null,
            "flex": null,
            "_model_name": "LayoutModel",
            "justify_items": null,
            "grid_row": null,
            "max_height": null,
            "align_content": null,
            "visibility": null,
            "align_self": null,
            "height": null,
            "min_height": null,
            "padding": null,
            "grid_auto_rows": null,
            "grid_gap": null,
            "max_width": null,
            "order": null,
            "_view_module_version": "1.2.0",
            "grid_template_areas": null,
            "object_position": null,
            "object_fit": null,
            "grid_auto_columns": null,
            "margin": null,
            "display": null,
            "left": null
          }
        },
        "1da1288f5a78489a8afc5ad307943b83": {
          "model_module": "@jupyter-widgets/controls",
          "model_name": "HBoxModel",
          "model_module_version": "1.5.0",
          "state": {
            "_view_name": "HBoxView",
            "_dom_classes": [],
            "_model_name": "HBoxModel",
            "_view_module": "@jupyter-widgets/controls",
            "_model_module_version": "1.5.0",
            "_view_count": null,
            "_view_module_version": "1.5.0",
            "box_style": "",
            "layout": "IPY_MODEL_1485ea7dd0d04b2086941706b4711bc2",
            "_model_module": "@jupyter-widgets/controls",
            "children": [
              "IPY_MODEL_df209c268e9c4d4bb6cd9919effd8c1f",
              "IPY_MODEL_ae01c1364fee4f549e7db57a5da910cb"
            ]
          }
        },
        "1485ea7dd0d04b2086941706b4711bc2": {
          "model_module": "@jupyter-widgets/base",
          "model_name": "LayoutModel",
          "model_module_version": "1.2.0",
          "state": {
            "_view_name": "LayoutView",
            "grid_template_rows": null,
            "right": null,
            "justify_content": null,
            "_view_module": "@jupyter-widgets/base",
            "overflow": null,
            "_model_module_version": "1.2.0",
            "_view_count": null,
            "flex_flow": null,
            "width": null,
            "min_width": null,
            "border": null,
            "align_items": null,
            "bottom": null,
            "_model_module": "@jupyter-widgets/base",
            "top": null,
            "grid_column": null,
            "overflow_y": null,
            "overflow_x": null,
            "grid_auto_flow": null,
            "grid_area": null,
            "grid_template_columns": null,
            "flex": null,
            "_model_name": "LayoutModel",
            "justify_items": null,
            "grid_row": null,
            "max_height": null,
            "align_content": null,
            "visibility": null,
            "align_self": null,
            "height": null,
            "min_height": null,
            "padding": null,
            "grid_auto_rows": null,
            "grid_gap": null,
            "max_width": null,
            "order": null,
            "_view_module_version": "1.2.0",
            "grid_template_areas": null,
            "object_position": null,
            "object_fit": null,
            "grid_auto_columns": null,
            "margin": null,
            "display": null,
            "left": null
          }
        },
        "df209c268e9c4d4bb6cd9919effd8c1f": {
          "model_module": "@jupyter-widgets/controls",
          "model_name": "FloatProgressModel",
          "model_module_version": "1.5.0",
          "state": {
            "_view_name": "ProgressView",
            "style": "IPY_MODEL_88a5de229f6f47db8d76bf48090e9897",
            "_dom_classes": [],
            "description": "",
            "_model_name": "FloatProgressModel",
            "bar_style": "success",
            "max": 28881,
            "_view_module": "@jupyter-widgets/controls",
            "_model_module_version": "1.5.0",
            "value": 28881,
            "_view_count": null,
            "_view_module_version": "1.5.0",
            "orientation": "horizontal",
            "min": 0,
            "description_tooltip": null,
            "_model_module": "@jupyter-widgets/controls",
            "layout": "IPY_MODEL_2ebb77e6b8384504bcf47256f454edcf"
          }
        },
        "ae01c1364fee4f549e7db57a5da910cb": {
          "model_module": "@jupyter-widgets/controls",
          "model_name": "HTMLModel",
          "model_module_version": "1.5.0",
          "state": {
            "_view_name": "HTMLView",
            "style": "IPY_MODEL_e0c93280b7a4479595aa8bfc18a14c33",
            "_dom_classes": [],
            "description": "",
            "_model_name": "HTMLModel",
            "placeholder": "​",
            "_view_module": "@jupyter-widgets/controls",
            "_model_module_version": "1.5.0",
            "value": " 29696/? [00:38&lt;00:00, 771.36it/s]",
            "_view_count": null,
            "_view_module_version": "1.5.0",
            "description_tooltip": null,
            "_model_module": "@jupyter-widgets/controls",
            "layout": "IPY_MODEL_38dde593f0d44ae391e50b413b7a411c"
          }
        },
        "88a5de229f6f47db8d76bf48090e9897": {
          "model_module": "@jupyter-widgets/controls",
          "model_name": "ProgressStyleModel",
          "model_module_version": "1.5.0",
          "state": {
            "_view_name": "StyleView",
            "_model_name": "ProgressStyleModel",
            "description_width": "initial",
            "_view_module": "@jupyter-widgets/base",
            "_model_module_version": "1.5.0",
            "_view_count": null,
            "_view_module_version": "1.2.0",
            "bar_color": null,
            "_model_module": "@jupyter-widgets/controls"
          }
        },
        "2ebb77e6b8384504bcf47256f454edcf": {
          "model_module": "@jupyter-widgets/base",
          "model_name": "LayoutModel",
          "model_module_version": "1.2.0",
          "state": {
            "_view_name": "LayoutView",
            "grid_template_rows": null,
            "right": null,
            "justify_content": null,
            "_view_module": "@jupyter-widgets/base",
            "overflow": null,
            "_model_module_version": "1.2.0",
            "_view_count": null,
            "flex_flow": null,
            "width": null,
            "min_width": null,
            "border": null,
            "align_items": null,
            "bottom": null,
            "_model_module": "@jupyter-widgets/base",
            "top": null,
            "grid_column": null,
            "overflow_y": null,
            "overflow_x": null,
            "grid_auto_flow": null,
            "grid_area": null,
            "grid_template_columns": null,
            "flex": null,
            "_model_name": "LayoutModel",
            "justify_items": null,
            "grid_row": null,
            "max_height": null,
            "align_content": null,
            "visibility": null,
            "align_self": null,
            "height": null,
            "min_height": null,
            "padding": null,
            "grid_auto_rows": null,
            "grid_gap": null,
            "max_width": null,
            "order": null,
            "_view_module_version": "1.2.0",
            "grid_template_areas": null,
            "object_position": null,
            "object_fit": null,
            "grid_auto_columns": null,
            "margin": null,
            "display": null,
            "left": null
          }
        },
        "e0c93280b7a4479595aa8bfc18a14c33": {
          "model_module": "@jupyter-widgets/controls",
          "model_name": "DescriptionStyleModel",
          "model_module_version": "1.5.0",
          "state": {
            "_view_name": "StyleView",
            "_model_name": "DescriptionStyleModel",
            "description_width": "",
            "_view_module": "@jupyter-widgets/base",
            "_model_module_version": "1.5.0",
            "_view_count": null,
            "_view_module_version": "1.2.0",
            "_model_module": "@jupyter-widgets/controls"
          }
        },
        "38dde593f0d44ae391e50b413b7a411c": {
          "model_module": "@jupyter-widgets/base",
          "model_name": "LayoutModel",
          "model_module_version": "1.2.0",
          "state": {
            "_view_name": "LayoutView",
            "grid_template_rows": null,
            "right": null,
            "justify_content": null,
            "_view_module": "@jupyter-widgets/base",
            "overflow": null,
            "_model_module_version": "1.2.0",
            "_view_count": null,
            "flex_flow": null,
            "width": null,
            "min_width": null,
            "border": null,
            "align_items": null,
            "bottom": null,
            "_model_module": "@jupyter-widgets/base",
            "top": null,
            "grid_column": null,
            "overflow_y": null,
            "overflow_x": null,
            "grid_auto_flow": null,
            "grid_area": null,
            "grid_template_columns": null,
            "flex": null,
            "_model_name": "LayoutModel",
            "justify_items": null,
            "grid_row": null,
            "max_height": null,
            "align_content": null,
            "visibility": null,
            "align_self": null,
            "height": null,
            "min_height": null,
            "padding": null,
            "grid_auto_rows": null,
            "grid_gap": null,
            "max_width": null,
            "order": null,
            "_view_module_version": "1.2.0",
            "grid_template_areas": null,
            "object_position": null,
            "object_fit": null,
            "grid_auto_columns": null,
            "margin": null,
            "display": null,
            "left": null
          }
        },
        "4804ab73e6fc4cefb5eaad6a60d0cdf9": {
          "model_module": "@jupyter-widgets/controls",
          "model_name": "HBoxModel",
          "model_module_version": "1.5.0",
          "state": {
            "_view_name": "HBoxView",
            "_dom_classes": [],
            "_model_name": "HBoxModel",
            "_view_module": "@jupyter-widgets/controls",
            "_model_module_version": "1.5.0",
            "_view_count": null,
            "_view_module_version": "1.5.0",
            "box_style": "",
            "layout": "IPY_MODEL_b9edaa04e9e848be86a1b44ef355591e",
            "_model_module": "@jupyter-widgets/controls",
            "children": [
              "IPY_MODEL_4d7965525f7342f69c790aac595736c4",
              "IPY_MODEL_fe839183d860448883134d67f76bfe1f"
            ]
          }
        },
        "b9edaa04e9e848be86a1b44ef355591e": {
          "model_module": "@jupyter-widgets/base",
          "model_name": "LayoutModel",
          "model_module_version": "1.2.0",
          "state": {
            "_view_name": "LayoutView",
            "grid_template_rows": null,
            "right": null,
            "justify_content": null,
            "_view_module": "@jupyter-widgets/base",
            "overflow": null,
            "_model_module_version": "1.2.0",
            "_view_count": null,
            "flex_flow": null,
            "width": null,
            "min_width": null,
            "border": null,
            "align_items": null,
            "bottom": null,
            "_model_module": "@jupyter-widgets/base",
            "top": null,
            "grid_column": null,
            "overflow_y": null,
            "overflow_x": null,
            "grid_auto_flow": null,
            "grid_area": null,
            "grid_template_columns": null,
            "flex": null,
            "_model_name": "LayoutModel",
            "justify_items": null,
            "grid_row": null,
            "max_height": null,
            "align_content": null,
            "visibility": null,
            "align_self": null,
            "height": null,
            "min_height": null,
            "padding": null,
            "grid_auto_rows": null,
            "grid_gap": null,
            "max_width": null,
            "order": null,
            "_view_module_version": "1.2.0",
            "grid_template_areas": null,
            "object_position": null,
            "object_fit": null,
            "grid_auto_columns": null,
            "margin": null,
            "display": null,
            "left": null
          }
        },
        "4d7965525f7342f69c790aac595736c4": {
          "model_module": "@jupyter-widgets/controls",
          "model_name": "FloatProgressModel",
          "model_module_version": "1.5.0",
          "state": {
            "_view_name": "ProgressView",
            "style": "IPY_MODEL_4989d00301a745b7bdf43ad68952a1d1",
            "_dom_classes": [],
            "description": "",
            "_model_name": "FloatProgressModel",
            "bar_style": "success",
            "max": 1648877,
            "_view_module": "@jupyter-widgets/controls",
            "_model_module_version": "1.5.0",
            "value": 1648877,
            "_view_count": null,
            "_view_module_version": "1.5.0",
            "orientation": "horizontal",
            "min": 0,
            "description_tooltip": null,
            "_model_module": "@jupyter-widgets/controls",
            "layout": "IPY_MODEL_9fa5a36812454254b2b531e14130d7fa"
          }
        },
        "fe839183d860448883134d67f76bfe1f": {
          "model_module": "@jupyter-widgets/controls",
          "model_name": "HTMLModel",
          "model_module_version": "1.5.0",
          "state": {
            "_view_name": "HTMLView",
            "style": "IPY_MODEL_6001e7c02e4f4554bce1f26f2bbc5ac7",
            "_dom_classes": [],
            "description": "",
            "_model_name": "HTMLModel",
            "placeholder": "​",
            "_view_module": "@jupyter-widgets/controls",
            "_model_module_version": "1.5.0",
            "value": " 1649664/? [00:38&lt;00:00, 43394.00it/s]",
            "_view_count": null,
            "_view_module_version": "1.5.0",
            "description_tooltip": null,
            "_model_module": "@jupyter-widgets/controls",
            "layout": "IPY_MODEL_496a0b79907e488b988d994ad5785b93"
          }
        },
        "4989d00301a745b7bdf43ad68952a1d1": {
          "model_module": "@jupyter-widgets/controls",
          "model_name": "ProgressStyleModel",
          "model_module_version": "1.5.0",
          "state": {
            "_view_name": "StyleView",
            "_model_name": "ProgressStyleModel",
            "description_width": "initial",
            "_view_module": "@jupyter-widgets/base",
            "_model_module_version": "1.5.0",
            "_view_count": null,
            "_view_module_version": "1.2.0",
            "bar_color": null,
            "_model_module": "@jupyter-widgets/controls"
          }
        },
        "9fa5a36812454254b2b531e14130d7fa": {
          "model_module": "@jupyter-widgets/base",
          "model_name": "LayoutModel",
          "model_module_version": "1.2.0",
          "state": {
            "_view_name": "LayoutView",
            "grid_template_rows": null,
            "right": null,
            "justify_content": null,
            "_view_module": "@jupyter-widgets/base",
            "overflow": null,
            "_model_module_version": "1.2.0",
            "_view_count": null,
            "flex_flow": null,
            "width": null,
            "min_width": null,
            "border": null,
            "align_items": null,
            "bottom": null,
            "_model_module": "@jupyter-widgets/base",
            "top": null,
            "grid_column": null,
            "overflow_y": null,
            "overflow_x": null,
            "grid_auto_flow": null,
            "grid_area": null,
            "grid_template_columns": null,
            "flex": null,
            "_model_name": "LayoutModel",
            "justify_items": null,
            "grid_row": null,
            "max_height": null,
            "align_content": null,
            "visibility": null,
            "align_self": null,
            "height": null,
            "min_height": null,
            "padding": null,
            "grid_auto_rows": null,
            "grid_gap": null,
            "max_width": null,
            "order": null,
            "_view_module_version": "1.2.0",
            "grid_template_areas": null,
            "object_position": null,
            "object_fit": null,
            "grid_auto_columns": null,
            "margin": null,
            "display": null,
            "left": null
          }
        },
        "6001e7c02e4f4554bce1f26f2bbc5ac7": {
          "model_module": "@jupyter-widgets/controls",
          "model_name": "DescriptionStyleModel",
          "model_module_version": "1.5.0",
          "state": {
            "_view_name": "StyleView",
            "_model_name": "DescriptionStyleModel",
            "description_width": "",
            "_view_module": "@jupyter-widgets/base",
            "_model_module_version": "1.5.0",
            "_view_count": null,
            "_view_module_version": "1.2.0",
            "_model_module": "@jupyter-widgets/controls"
          }
        },
        "496a0b79907e488b988d994ad5785b93": {
          "model_module": "@jupyter-widgets/base",
          "model_name": "LayoutModel",
          "model_module_version": "1.2.0",
          "state": {
            "_view_name": "LayoutView",
            "grid_template_rows": null,
            "right": null,
            "justify_content": null,
            "_view_module": "@jupyter-widgets/base",
            "overflow": null,
            "_model_module_version": "1.2.0",
            "_view_count": null,
            "flex_flow": null,
            "width": null,
            "min_width": null,
            "border": null,
            "align_items": null,
            "bottom": null,
            "_model_module": "@jupyter-widgets/base",
            "top": null,
            "grid_column": null,
            "overflow_y": null,
            "overflow_x": null,
            "grid_auto_flow": null,
            "grid_area": null,
            "grid_template_columns": null,
            "flex": null,
            "_model_name": "LayoutModel",
            "justify_items": null,
            "grid_row": null,
            "max_height": null,
            "align_content": null,
            "visibility": null,
            "align_self": null,
            "height": null,
            "min_height": null,
            "padding": null,
            "grid_auto_rows": null,
            "grid_gap": null,
            "max_width": null,
            "order": null,
            "_view_module_version": "1.2.0",
            "grid_template_areas": null,
            "object_position": null,
            "object_fit": null,
            "grid_auto_columns": null,
            "margin": null,
            "display": null,
            "left": null
          }
        },
        "ea78886251b64acbacad6e62de3e85a8": {
          "model_module": "@jupyter-widgets/controls",
          "model_name": "HBoxModel",
          "model_module_version": "1.5.0",
          "state": {
            "_view_name": "HBoxView",
            "_dom_classes": [],
            "_model_name": "HBoxModel",
            "_view_module": "@jupyter-widgets/controls",
            "_model_module_version": "1.5.0",
            "_view_count": null,
            "_view_module_version": "1.5.0",
            "box_style": "",
            "layout": "IPY_MODEL_748dbf654ca74cc8bfee0e92737daf7e",
            "_model_module": "@jupyter-widgets/controls",
            "children": [
              "IPY_MODEL_4d244819d51748c08f77c88633ebc993",
              "IPY_MODEL_3590fc1a970d456fa83d1c0c5d5fc158"
            ]
          }
        },
        "748dbf654ca74cc8bfee0e92737daf7e": {
          "model_module": "@jupyter-widgets/base",
          "model_name": "LayoutModel",
          "model_module_version": "1.2.0",
          "state": {
            "_view_name": "LayoutView",
            "grid_template_rows": null,
            "right": null,
            "justify_content": null,
            "_view_module": "@jupyter-widgets/base",
            "overflow": null,
            "_model_module_version": "1.2.0",
            "_view_count": null,
            "flex_flow": null,
            "width": null,
            "min_width": null,
            "border": null,
            "align_items": null,
            "bottom": null,
            "_model_module": "@jupyter-widgets/base",
            "top": null,
            "grid_column": null,
            "overflow_y": null,
            "overflow_x": null,
            "grid_auto_flow": null,
            "grid_area": null,
            "grid_template_columns": null,
            "flex": null,
            "_model_name": "LayoutModel",
            "justify_items": null,
            "grid_row": null,
            "max_height": null,
            "align_content": null,
            "visibility": null,
            "align_self": null,
            "height": null,
            "min_height": null,
            "padding": null,
            "grid_auto_rows": null,
            "grid_gap": null,
            "max_width": null,
            "order": null,
            "_view_module_version": "1.2.0",
            "grid_template_areas": null,
            "object_position": null,
            "object_fit": null,
            "grid_auto_columns": null,
            "margin": null,
            "display": null,
            "left": null
          }
        },
        "4d244819d51748c08f77c88633ebc993": {
          "model_module": "@jupyter-widgets/controls",
          "model_name": "FloatProgressModel",
          "model_module_version": "1.5.0",
          "state": {
            "_view_name": "ProgressView",
            "style": "IPY_MODEL_b46a9242761a427e830b79db53c3026d",
            "_dom_classes": [],
            "description": "",
            "_model_name": "FloatProgressModel",
            "bar_style": "success",
            "max": 4542,
            "_view_module": "@jupyter-widgets/controls",
            "_model_module_version": "1.5.0",
            "value": 4542,
            "_view_count": null,
            "_view_module_version": "1.5.0",
            "orientation": "horizontal",
            "min": 0,
            "description_tooltip": null,
            "_model_module": "@jupyter-widgets/controls",
            "layout": "IPY_MODEL_647ee284f3a14cd1a0775d3af051639e"
          }
        },
        "3590fc1a970d456fa83d1c0c5d5fc158": {
          "model_module": "@jupyter-widgets/controls",
          "model_name": "HTMLModel",
          "model_module_version": "1.5.0",
          "state": {
            "_view_name": "HTMLView",
            "style": "IPY_MODEL_207240667cfb4180862ece24aa1d295a",
            "_dom_classes": [],
            "description": "",
            "_model_name": "HTMLModel",
            "placeholder": "​",
            "_view_module": "@jupyter-widgets/controls",
            "_model_module_version": "1.5.0",
            "value": " 5120/? [00:00&lt;00:00, 10885.08it/s]",
            "_view_count": null,
            "_view_module_version": "1.5.0",
            "description_tooltip": null,
            "_model_module": "@jupyter-widgets/controls",
            "layout": "IPY_MODEL_daa4452e945a410eb0cc76205621f259"
          }
        },
        "b46a9242761a427e830b79db53c3026d": {
          "model_module": "@jupyter-widgets/controls",
          "model_name": "ProgressStyleModel",
          "model_module_version": "1.5.0",
          "state": {
            "_view_name": "StyleView",
            "_model_name": "ProgressStyleModel",
            "description_width": "initial",
            "_view_module": "@jupyter-widgets/base",
            "_model_module_version": "1.5.0",
            "_view_count": null,
            "_view_module_version": "1.2.0",
            "bar_color": null,
            "_model_module": "@jupyter-widgets/controls"
          }
        },
        "647ee284f3a14cd1a0775d3af051639e": {
          "model_module": "@jupyter-widgets/base",
          "model_name": "LayoutModel",
          "model_module_version": "1.2.0",
          "state": {
            "_view_name": "LayoutView",
            "grid_template_rows": null,
            "right": null,
            "justify_content": null,
            "_view_module": "@jupyter-widgets/base",
            "overflow": null,
            "_model_module_version": "1.2.0",
            "_view_count": null,
            "flex_flow": null,
            "width": null,
            "min_width": null,
            "border": null,
            "align_items": null,
            "bottom": null,
            "_model_module": "@jupyter-widgets/base",
            "top": null,
            "grid_column": null,
            "overflow_y": null,
            "overflow_x": null,
            "grid_auto_flow": null,
            "grid_area": null,
            "grid_template_columns": null,
            "flex": null,
            "_model_name": "LayoutModel",
            "justify_items": null,
            "grid_row": null,
            "max_height": null,
            "align_content": null,
            "visibility": null,
            "align_self": null,
            "height": null,
            "min_height": null,
            "padding": null,
            "grid_auto_rows": null,
            "grid_gap": null,
            "max_width": null,
            "order": null,
            "_view_module_version": "1.2.0",
            "grid_template_areas": null,
            "object_position": null,
            "object_fit": null,
            "grid_auto_columns": null,
            "margin": null,
            "display": null,
            "left": null
          }
        },
        "207240667cfb4180862ece24aa1d295a": {
          "model_module": "@jupyter-widgets/controls",
          "model_name": "DescriptionStyleModel",
          "model_module_version": "1.5.0",
          "state": {
            "_view_name": "StyleView",
            "_model_name": "DescriptionStyleModel",
            "description_width": "",
            "_view_module": "@jupyter-widgets/base",
            "_model_module_version": "1.5.0",
            "_view_count": null,
            "_view_module_version": "1.2.0",
            "_model_module": "@jupyter-widgets/controls"
          }
        },
        "daa4452e945a410eb0cc76205621f259": {
          "model_module": "@jupyter-widgets/base",
          "model_name": "LayoutModel",
          "model_module_version": "1.2.0",
          "state": {
            "_view_name": "LayoutView",
            "grid_template_rows": null,
            "right": null,
            "justify_content": null,
            "_view_module": "@jupyter-widgets/base",
            "overflow": null,
            "_model_module_version": "1.2.0",
            "_view_count": null,
            "flex_flow": null,
            "width": null,
            "min_width": null,
            "border": null,
            "align_items": null,
            "bottom": null,
            "_model_module": "@jupyter-widgets/base",
            "top": null,
            "grid_column": null,
            "overflow_y": null,
            "overflow_x": null,
            "grid_auto_flow": null,
            "grid_area": null,
            "grid_template_columns": null,
            "flex": null,
            "_model_name": "LayoutModel",
            "justify_items": null,
            "grid_row": null,
            "max_height": null,
            "align_content": null,
            "visibility": null,
            "align_self": null,
            "height": null,
            "min_height": null,
            "padding": null,
            "grid_auto_rows": null,
            "grid_gap": null,
            "max_width": null,
            "order": null,
            "_view_module_version": "1.2.0",
            "grid_template_areas": null,
            "object_position": null,
            "object_fit": null,
            "grid_auto_columns": null,
            "margin": null,
            "display": null,
            "left": null
          }
        }
      }
    }
  },
  "cells": [
    {
      "cell_type": "markdown",
      "metadata": {
        "id": "tRY6n5_m5hk7"
      },
      "source": [
        "### Klasyfikacja pojedynczych znaków\n",
        "Pierwszym zagadnieniem jakie poruszym jest rozpoznawanie cyfr zapisanych pisemem odręcznym. \n",
        "\n",
        "\n",
        "Rozpoczynam od załadowania niezbędnych bibliotek. Będziemy używać biblioteki \"PyTorch\" do trenowania sieci neuronowej, która posłuży do rozpoznawania odręcznych cyfr pochodzących ze zboiru MNIST. \"PyTorch\" to bardzo popularny framework do uczenia głębokiego, istnieje wiele podobnych bibliotek  takich jak Tensorflow, CNTK i Caffe2."
      ]
    },
    {
      "cell_type": "code",
      "metadata": {
        "id": "nkmu-Ckt5YFU"
      },
      "source": [
        "import torchvision\n",
        "import torch"
      ],
      "execution_count": null,
      "outputs": []
    },
    {
      "cell_type": "markdown",
      "metadata": {
        "id": "YOCSnVfR5bfZ"
      },
      "source": [
        "#### Przygotowanie zbioru danych\n",
        "\n",
        "Gdy mamy już załadowane niezbędne biblioteki, możemy przejśc dalej do przygotowania danych, których będziemy używać. Wcześniej zostaną zdefiniowane parametry, których będziemy używać w tym eksperymencie. W tym przypadku liczba epok określa (n_epochs), ile razy będziemy zapętlać cały zestaw danych treningowych. Parametry  learning_rate i momentum są parametrami dla optymalizatora, którego będziemy używać później."
      ]
    },
    {
      "cell_type": "code",
      "metadata": {
        "colab": {
          "base_uri": "https://localhost:8080/"
        },
        "id": "De6fJ8UG14FT",
        "outputId": "de8d8ebd-4af6-48d1-819f-67c23a92258a"
      },
      "source": [
        "n_epochs = 3\n",
        "batch_size_train = 64\n",
        "batch_size_test = 1000\n",
        "learning_rate = 0.01\n",
        "momentum = 0.5\n",
        "log_interval = 10\n",
        "\n",
        "random_seed = 1\n",
        "torch.backends.cudnn.enabled = False\n",
        "torch.manual_seed(random_seed)"
      ],
      "execution_count": null,
      "outputs": [
        {
          "output_type": "execute_result",
          "data": {
            "text/plain": [
              "<torch._C.Generator at 0x7f9829de3b10>"
            ]
          },
          "metadata": {
            "tags": []
          },
          "execution_count": 2
        }
      ]
    },
    {
      "cell_type": "markdown",
      "metadata": {
        "id": "Gnsl5KT66azu"
      },
      "source": [
        "Dla powtarzania eksperymentów musimy ustawić losowość dla wszystkiego co używa generatora liczb. Robimy to poprzez funkcje \"manual_seed\". Warto również wspomnieć, że cuDNN używa niedeterministycznych algorytmów, które można wyłączyć ustawiając torch.backends.cudnn.enabled = False.\n",
        "\n",
        "Będziemy również potrzebować obiektów \"DataLoader\" dla zestawu danych. W tym miejscu do gry wchodzi TorchVision. Będziemy używać ładowania zestawu danych MNIST w wygodny sposób. Użyjemy pliku batch_size 64 do trenowania i rozmiaru 1000 do testowania tego zestawu danych. Wartości 0,1307 i 0,3081 użyte do transformacji \"Normalize\", to globalna średnia i odchylenie standardowe zestawu danych MNIST, przyjmiemy je tutaj jako podane.\n",
        "\n",
        "TorchVision oferuje wiele przydatnych przekształceń, takich jak przycinanie czy normalizacja.\n",
        "\n",
        "W pierwszym kroku wczytujemy zbiór danych Mnist poprzez obiekt \"datasets\" z bilioteki \"torchvision\". Następnie przkestałcamy go do formy wektorowej."
      ]
    },
    {
      "cell_type": "code",
      "metadata": {
        "colab": {
          "base_uri": "https://localhost:8080/",
          "height": 539,
          "referenced_widgets": [
            "d63865d1ab6643169fa5d44b029761fa",
            "bfc1578834264ee79f94cbb4c1e36ca6",
            "5e3ea13e1c654346943dcf4b0af10cbe",
            "1a26b46c1e634354bcbda9dcd3a11505",
            "b0ea9a20fb014d8c9852dc7ac2dcb8d2",
            "9d3fc2da6e804dbc8948a90d41fc2d8e",
            "3b8fe17878204783abb9bd4f7922b86f",
            "427c35f593cd443da40def36ec61c60d",
            "1da1288f5a78489a8afc5ad307943b83",
            "1485ea7dd0d04b2086941706b4711bc2",
            "df209c268e9c4d4bb6cd9919effd8c1f",
            "ae01c1364fee4f549e7db57a5da910cb",
            "88a5de229f6f47db8d76bf48090e9897",
            "2ebb77e6b8384504bcf47256f454edcf",
            "e0c93280b7a4479595aa8bfc18a14c33",
            "38dde593f0d44ae391e50b413b7a411c",
            "4804ab73e6fc4cefb5eaad6a60d0cdf9",
            "b9edaa04e9e848be86a1b44ef355591e",
            "4d7965525f7342f69c790aac595736c4",
            "fe839183d860448883134d67f76bfe1f",
            "4989d00301a745b7bdf43ad68952a1d1",
            "9fa5a36812454254b2b531e14130d7fa",
            "6001e7c02e4f4554bce1f26f2bbc5ac7",
            "496a0b79907e488b988d994ad5785b93",
            "ea78886251b64acbacad6e62de3e85a8",
            "748dbf654ca74cc8bfee0e92737daf7e",
            "4d244819d51748c08f77c88633ebc993",
            "3590fc1a970d456fa83d1c0c5d5fc158",
            "b46a9242761a427e830b79db53c3026d",
            "647ee284f3a14cd1a0775d3af051639e",
            "207240667cfb4180862ece24aa1d295a",
            "daa4452e945a410eb0cc76205621f259"
          ]
        },
        "id": "-kW69t018OX3",
        "outputId": "b4a265f8-30af-429e-b34d-c7642c90fb57"
      },
      "source": [
        "train_loader = torch.utils.data.DataLoader(\n",
        "  torchvision.datasets.MNIST('/files/', train=True, download=True,\n",
        "                             transform=torchvision.transforms.Compose([\n",
        "                               torchvision.transforms.ToTensor(),\n",
        "                               torchvision.transforms.Normalize(\n",
        "                                 (0.1307,), (0.3081,))\n",
        "                             ])),\n",
        "  batch_size=batch_size_train, shuffle=True)\n",
        "\n",
        "test_loader = torch.utils.data.DataLoader(\n",
        "  torchvision.datasets.MNIST('/files/', train=False, download=True,\n",
        "                             transform=torchvision.transforms.Compose([\n",
        "                               torchvision.transforms.ToTensor(),\n",
        "                               torchvision.transforms.Normalize(\n",
        "                                 (0.1307,), (0.3081,))\n",
        "                             ])),\n",
        "  batch_size=batch_size_test, shuffle=True)"
      ],
      "execution_count": null,
      "outputs": [
        {
          "output_type": "stream",
          "text": [
            "Downloading http://yann.lecun.com/exdb/mnist/train-images-idx3-ubyte.gz\n",
            "Downloading http://yann.lecun.com/exdb/mnist/train-images-idx3-ubyte.gz to /files/MNIST/raw/train-images-idx3-ubyte.gz\n"
          ],
          "name": "stdout"
        },
        {
          "output_type": "display_data",
          "data": {
            "application/vnd.jupyter.widget-view+json": {
              "model_id": "d63865d1ab6643169fa5d44b029761fa",
              "version_minor": 0,
              "version_major": 2
            },
            "text/plain": [
              "HBox(children=(FloatProgress(value=0.0, max=9912422.0), HTML(value='')))"
            ]
          },
          "metadata": {
            "tags": []
          }
        },
        {
          "output_type": "stream",
          "text": [
            "\n",
            "Extracting /files/MNIST/raw/train-images-idx3-ubyte.gz to /files/MNIST/raw\n",
            "\n",
            "Downloading http://yann.lecun.com/exdb/mnist/train-labels-idx1-ubyte.gz\n",
            "Downloading http://yann.lecun.com/exdb/mnist/train-labels-idx1-ubyte.gz to /files/MNIST/raw/train-labels-idx1-ubyte.gz\n"
          ],
          "name": "stdout"
        },
        {
          "output_type": "display_data",
          "data": {
            "application/vnd.jupyter.widget-view+json": {
              "model_id": "1da1288f5a78489a8afc5ad307943b83",
              "version_minor": 0,
              "version_major": 2
            },
            "text/plain": [
              "HBox(children=(FloatProgress(value=0.0, max=28881.0), HTML(value='')))"
            ]
          },
          "metadata": {
            "tags": []
          }
        },
        {
          "output_type": "stream",
          "text": [
            "\n",
            "Extracting /files/MNIST/raw/train-labels-idx1-ubyte.gz to /files/MNIST/raw\n",
            "\n",
            "Downloading http://yann.lecun.com/exdb/mnist/t10k-images-idx3-ubyte.gz\n",
            "Downloading http://yann.lecun.com/exdb/mnist/t10k-images-idx3-ubyte.gz to /files/MNIST/raw/t10k-images-idx3-ubyte.gz\n"
          ],
          "name": "stdout"
        },
        {
          "output_type": "display_data",
          "data": {
            "application/vnd.jupyter.widget-view+json": {
              "model_id": "4804ab73e6fc4cefb5eaad6a60d0cdf9",
              "version_minor": 0,
              "version_major": 2
            },
            "text/plain": [
              "HBox(children=(FloatProgress(value=0.0, max=1648877.0), HTML(value='')))"
            ]
          },
          "metadata": {
            "tags": []
          }
        },
        {
          "output_type": "stream",
          "text": [
            "\n",
            "Extracting /files/MNIST/raw/t10k-images-idx3-ubyte.gz to /files/MNIST/raw\n",
            "\n",
            "Downloading http://yann.lecun.com/exdb/mnist/t10k-labels-idx1-ubyte.gz\n",
            "Downloading http://yann.lecun.com/exdb/mnist/t10k-labels-idx1-ubyte.gz to /files/MNIST/raw/t10k-labels-idx1-ubyte.gz\n"
          ],
          "name": "stdout"
        },
        {
          "output_type": "display_data",
          "data": {
            "application/vnd.jupyter.widget-view+json": {
              "model_id": "ea78886251b64acbacad6e62de3e85a8",
              "version_minor": 0,
              "version_major": 2
            },
            "text/plain": [
              "HBox(children=(FloatProgress(value=0.0, max=4542.0), HTML(value='')))"
            ]
          },
          "metadata": {
            "tags": []
          }
        },
        {
          "output_type": "stream",
          "text": [
            "\n",
            "Extracting /files/MNIST/raw/t10k-labels-idx1-ubyte.gz to /files/MNIST/raw\n",
            "\n"
          ],
          "name": "stdout"
        },
        {
          "output_type": "stream",
          "text": [
            "/usr/local/lib/python3.7/dist-packages/torchvision/datasets/mnist.py:498: UserWarning: The given NumPy array is not writeable, and PyTorch does not support non-writeable tensors. This means you can write to the underlying (supposedly non-writeable) NumPy array using the tensor. You may want to copy the array to protect its data or make it writeable before converting it to a tensor. This type of warning will be suppressed for the rest of this program. (Triggered internally at  /pytorch/torch/csrc/utils/tensor_numpy.cpp:180.)\n",
            "  return torch.from_numpy(parsed.astype(m[2], copy=False)).view(*s)\n"
          ],
          "name": "stderr"
        }
      ]
    },
    {
      "cell_type": "markdown",
      "metadata": {
        "id": "6-Iww2V47hb3"
      },
      "source": [
        "DataLoader firmy PyTorch zawiera kilka interesujących opcji innych niż zestaw danych. Na przykład możemy użyć num_workers > 1, aby użyć podprocesów do asynchronicznego ładowania danych lub użyć przypiętej pamięci RAM (poprzez pin_memory), aby przyspieszyć transfery pamięci RAM do GPU. W tym przypadku użyjemy ich aby przyeśpieszyć wykonywanie.\n",
        "\n",
        "Przyjrzyjmy się teraz kilku przykładom. Wykorzystamy do tego test_loader."
      ]
    },
    {
      "cell_type": "code",
      "metadata": {
        "id": "dumJNuAO8BFV"
      },
      "source": [
        "examples = enumerate(test_loader)\n",
        "batch_idx, (example_data, example_targets) = next(examples)"
      ],
      "execution_count": null,
      "outputs": []
    },
    {
      "cell_type": "markdown",
      "metadata": {
        "id": "po7Ux6og8F-X"
      },
      "source": [
        "Zobaczmy z czego składa się jedna partia danych testowych."
      ]
    },
    {
      "cell_type": "code",
      "metadata": {
        "colab": {
          "base_uri": "https://localhost:8080/"
        },
        "id": "37ANn2On8Ha-",
        "outputId": "08b5f6d3-f210-4309-ff22-e21d4a49fd96"
      },
      "source": [
        "example_data.shape"
      ],
      "execution_count": null,
      "outputs": [
        {
          "output_type": "execute_result",
          "data": {
            "text/plain": [
              "torch.Size([1000, 1, 28, 28])"
            ]
          },
          "metadata": {
            "tags": []
          },
          "execution_count": 5
        }
      ]
    },
    {
      "cell_type": "markdown",
      "metadata": {
        "id": "nJcJTKo48KFC"
      },
      "source": [
        "Tak więc jedna partia danych testowych jest tensorem kształtu: [1000, 1, 28, 28]. Oznacza to, że mamy 1000 przykładów 28x28 pikseli w skali szarości (tzn. brak kanałów RGB, stąd ten jeden). Niektóre z nich możemy wykreślić za pomocą matplotlib."
      ]
    },
    {
      "cell_type": "code",
      "metadata": {
        "colab": {
          "base_uri": "https://localhost:8080/",
          "height": 551
        },
        "id": "3MeO2pEY8Mz7",
        "outputId": "9ded1027-bebc-4755-8896-61e4c5b8dd95"
      },
      "source": [
        "import matplotlib.pyplot as plt\n",
        "\n",
        "fig = plt.figure()\n",
        "for i in range(6):\n",
        "  plt.subplot(2,3,i+1)\n",
        "  plt.tight_layout()\n",
        "  plt.imshow(example_data[i][0], cmap='gray', interpolation='none')\n",
        "  plt.title(\"Ground Truth: {}\".format(example_targets[i]))\n",
        "  plt.xticks([])\n",
        "  plt.yticks([])\n",
        "fig"
      ],
      "execution_count": null,
      "outputs": [
        {
          "output_type": "execute_result",
          "data": {
            "image/png": "[encoded data removed]",
            "text/plain": [
              "<Figure size 432x288 with 6 Axes>"
            ]
          },
          "metadata": {
            "tags": []
          },
          "execution_count": 6
        },
        {
          "output_type": "display_data",
          "data": {
            "image/png": "[encoded data removed]",
            "text/plain": [
              "<Figure size 432x288 with 6 Axes>"
            ]
          },
          "metadata": {
            "tags": []
          }
        }
      ]
    },
    {
      "cell_type": "markdown",
      "metadata": {
        "id": "GQAkLap58Q5g"
      },
      "source": [
        "W porządku, nie powinno być trudno je rozpoznać po pewnym treningu."
      ]
    },
    {
      "cell_type": "markdown",
      "metadata": {
        "id": "2j3eR8fQ8XbH"
      },
      "source": [
        "#### Budowa sieci\n",
        "\n",
        "Teraz przejdźmy dalej i zbudujmy naszą sieć. Użyjemy dwóch warstw splotowych 2-D, a następnie dwóch w pełni połączonych (lub liniowych) warstw. Jako funkcję aktywacji wybierzemy rektyfikowane jednostki liniowe (w skrócie ReLU), a jako środek regularyzacji użyjemy dwóch warstw dropout. W PyTorch dobrym sposobem na zbudowanie sieci jest stworzenie nowej klasy dla sieci, którą chcemy zbudować. Zaimportujmy tutaj kilka podmodułów, aby uzyskać bardziej czytelny kod."
      ]
    },
    {
      "cell_type": "code",
      "metadata": {
        "id": "Cblkp9Xh8hYU"
      },
      "source": [
        "import torch.nn as nn\n",
        "import torch.nn.functional as F\n",
        "import torch.optim as optim"
      ],
      "execution_count": null,
      "outputs": []
    },
    {
      "cell_type": "code",
      "metadata": {
        "id": "QVTIP_jZ8kA7"
      },
      "source": [
        "class Net(nn.Module):\n",
        "    def __init__(self):\n",
        "        super(Net, self).__init__()\n",
        "        self.conv1 = nn.Conv2d(1, 10, kernel_size=5)\n",
        "        self.conv2 = nn.Conv2d(10, 20, kernel_size=5)\n",
        "        self.conv2_drop = nn.Dropout2d()\n",
        "        self.fc1 = nn.Linear(320, 50)\n",
        "        self.fc2 = nn.Linear(50, 10)\n",
        "\n",
        "    def forward(self, x):\n",
        "        x = F.relu(F.max_pool2d(self.conv1(x), 2))\n",
        "        x = F.relu(F.max_pool2d(self.conv2_drop(self.conv2(x)), 2))\n",
        "        x = x.view(-1, 320)\n",
        "        x = F.relu(self.fc1(x))\n",
        "        x = F.dropout(x, training=self.training)\n",
        "        x = self.fc2(x)\n",
        "        return F.log_softmax(x)"
      ],
      "execution_count": null,
      "outputs": []
    },
    {
      "cell_type": "markdown",
      "metadata": {
        "id": "diqxD5F-8pJH"
      },
      "source": [
        "Mówiąc ogólnie, możemy myśleć o warstwach torch.nn jako zawierających parametry, które można trenować, podczas gdy torch.nn.functional są czysto funkcjonalne. Przebieg forward() określa sposób, w jaki obliczamy nasze dane wyjściowe przy użyciu danych warstw i funkcji. Idealnie byłoby wydrukować tensory gdzieś w przejściu do przodu, aby ułatwić debugowanie. Przydaje się to podczas eksperymentowania z bardziej złożonymi modelami. Zwróć uwagę, że podanie w przód może wykorzystać m.in. zmienną składową lub nawet same dane w celu określenia ścieżki wykonania - a także może korzystać z wielu argumentów!\n",
        "\n",
        "Teraz zainicjujmy sieć i optymalizator."
      ]
    },
    {
      "cell_type": "code",
      "metadata": {
        "id": "YzMR94i18vwm"
      },
      "source": [
        "network = Net()\n",
        "optimizer = optim.SGD(network.parameters(), lr=learning_rate,\n",
        "                      momentum=momentum)"
      ],
      "execution_count": null,
      "outputs": []
    },
    {
      "cell_type": "markdown",
      "metadata": {
        "id": "FLHKh1sX81Of"
      },
      "source": [
        "Uwaga: Jeśli używaliśmy GPU do treningu, powinniśmy również przesłać parametry sieciowe do GPU za pomocą np. sieć.cuda(). Ważne jest, aby przesłać parametry sieci do odpowiedniego urządzenia przed przekazaniem ich do optymalizatora, w przeciwnym razie optymalizator nie będzie w stanie śledzić ich we właściwy sposób."
      ]
    },
    {
      "cell_type": "markdown",
      "metadata": {
        "id": "B4ZYOzba85UA"
      },
      "source": [
        "#### Trenowanie modelu\n",
        "\n",
        "Czas zbudować naszą pętlę treningową. Najpierw chcemy się upewnić, że nasza sieć jest w trybie treningowym. Następnie powtarzamy wszystkie dane treningowe raz na epokę. Ładowanie poszczególnych partii jest obsługiwane przez DataLoader. Najpierw musimy ręcznie ustawić gradienty na zero za pomocą optymalizacji.zero_grad(), ponieważ PyTorch domyślnie gromadzi gradienty. Następnie tworzymy wyjście naszej sieci (przejście do przodu) i obliczamy ujemną stratę logarytmu prawdopodobnego między wyjściem a etykietą prawdy uziemienia. Dzięki wywołaniu reverse() zbieramy teraz nowy zestaw gradientów, które rozpropagujemy z powrotem do każdego z parametrów sieci za pomocą optymalizacji.step(). Aby uzyskać bardziej szczegółowe informacje na temat wewnętrznego działania systemu automatycznego gradientu PyTorch, zobacz oficjalną dokumentację autogradingu (wysoce zalecane).\n",
        "\n",
        "Będziemy również śledzić postępy z niektórymi wydrukami. Aby później stworzyć ładną krzywą treningową, tworzymy również dwie listy do oszczędzania treningu i testowania strat. Na osi x chcemy wyświetlić liczbę przykładów uczących, które sieć widziała podczas uczenia."
      ]
    },
    {
      "cell_type": "code",
      "metadata": {
        "id": "SxWjTYMw8_0v"
      },
      "source": [
        "train_losses = []\n",
        "train_counter = []\n",
        "test_losses = []\n",
        "test_counter = [i*len(train_loader.dataset) for i in range(n_epochs + 1)]"
      ],
      "execution_count": null,
      "outputs": []
    },
    {
      "cell_type": "markdown",
      "metadata": {
        "id": "35kUA7dn9GLP"
      },
      "source": [
        "Przeprowadzimy naszą pętlę testową raz jeszcze przed rozpoczęciem szkolenia, aby zobaczyć, jaką dokładność/stratę osiągamy tylko przy losowo zainicjowanych parametrach sieci. Czy możesz zgadnąć, jak może wyglądać nasza dokładność w tym przypadku?"
      ]
    },
    {
      "cell_type": "code",
      "metadata": {
        "id": "H2dAFJSp9HVi"
      },
      "source": [
        "def train(epoch):\n",
        "  network.train()\n",
        "  for batch_idx, (data, target) in enumerate(train_loader):\n",
        "    optimizer.zero_grad()\n",
        "    output = network(data)\n",
        "    loss = F.nll_loss(output, target)\n",
        "    loss.backward()\n",
        "    optimizer.step()\n",
        "    if batch_idx % log_interval == 0:\n",
        "      print('Train Epoch: {} [{}/{} ({:.0f}%)]\\tLoss: {:.6f}'.format(\n",
        "        epoch, batch_idx * len(data), len(train_loader.dataset),\n",
        "        100. * batch_idx / len(train_loader), loss.item()))\n",
        "      train_losses.append(loss.item())\n",
        "      train_counter.append(\n",
        "        (batch_idx*64) + ((epoch-1)*len(train_loader.dataset)))\n",
        "      torch.save(network.state_dict(), 'results/model.pth')\n",
        "      torch.save(optimizer.state_dict(), 'results/optimizer.pth')"
      ],
      "execution_count": null,
      "outputs": []
    },
    {
      "cell_type": "markdown",
      "metadata": {
        "id": "yVfhm8-29PoL"
      },
      "source": [
        "Moduły sieci neuronowych oraz optymalizatory mają możliwość zapisywania i ładowania swojego stanu wewnętrznego za pomocą .state_dict(). Dzięki temu w razie potrzeby możemy kontynuować trening z wcześniej zapisanych dykt stanu - wystarczy wywołać .load_state_dict(state_dict).\n",
        "\n",
        "Teraz czas na naszą pętlę testową. Tutaj podsumowujemy straty testowe i śledzimy poprawnie sklasyfikowane cyfry, aby obliczyć dokładność sieci."
      ]
    },
    {
      "cell_type": "code",
      "metadata": {
        "id": "zbgzSDWb9Qod"
      },
      "source": [
        "def test():\n",
        "  network.eval()\n",
        "  test_loss = 0\n",
        "  correct = 0\n",
        "  with torch.no_grad():\n",
        "    for data, target in test_loader:\n",
        "      output = network(data)\n",
        "      test_loss += F.nll_loss(output, target, size_average=False).item()\n",
        "      pred = output.data.max(1, keepdim=True)[1]\n",
        "      correct += pred.eq(target.data.view_as(pred)).sum()\n",
        "  test_loss /= len(test_loader.dataset)\n",
        "  test_losses.append(test_loss)\n",
        "  print('\\nTest set: Avg. loss: {:.4f}, Accuracy: {}/{} ({:.0f}%)\\n'.format(\n",
        "    test_loss, correct, len(test_loader.dataset),\n",
        "    100. * correct / len(test_loader.dataset)))"
      ],
      "execution_count": null,
      "outputs": []
    },
    {
      "cell_type": "markdown",
      "metadata": {
        "id": "9ZjelLll9UE7"
      },
      "source": [
        "Używając menedżera kontekstu no_grad() możemy uniknąć przechowywania wykonanych obliczeń, tworzących wyjście naszej sieci w grafie obliczeń.\n",
        "\n",
        "Czas na szkolenie! Ręcznie dodamy wywołanie test(), zanim przejdziemy w pętli przez n_epochs, aby ocenić nasz model z losowo zainicjowanymi parametrami."
      ]
    },
    {
      "cell_type": "code",
      "metadata": {
        "colab": {
          "base_uri": "https://localhost:8080/"
        },
        "id": "broWwqCn9Ykn",
        "outputId": "44055272-8859-472c-824e-49fb93ed961d"
      },
      "source": [
        "test()\n",
        "for epoch in range(1, n_epochs + 1):\n",
        "  train(epoch)\n",
        "  test()"
      ],
      "execution_count": null,
      "outputs": [
        {
          "output_type": "stream",
          "text": [
            "/usr/local/lib/python3.7/dist-packages/ipykernel_launcher.py:17: UserWarning: Implicit dimension choice for log_softmax has been deprecated. Change the call to include dim=X as an argument.\n",
            "/usr/local/lib/python3.7/dist-packages/torch/nn/_reduction.py:42: UserWarning: size_average and reduce args will be deprecated, please use reduction='sum' instead.\n",
            "  warnings.warn(warning.format(ret))\n"
          ],
          "name": "stderr"
        },
        {
          "output_type": "stream",
          "text": [
            "\n",
            "Test set: Avg. loss: 0.0784, Accuracy: 9743/10000 (97%)\n",
            "\n",
            "Train Epoch: 1 [0/60000 (0%)]\tLoss: 0.238777\n",
            "Train Epoch: 1 [640/60000 (1%)]\tLoss: 0.142621\n",
            "Train Epoch: 1 [1280/60000 (2%)]\tLoss: 0.352958\n",
            "Train Epoch: 1 [1920/60000 (3%)]\tLoss: 0.381237\n",
            "Train Epoch: 1 [2560/60000 (4%)]\tLoss: 0.099698\n",
            "Train Epoch: 1 [3200/60000 (5%)]\tLoss: 0.120419\n",
            "Train Epoch: 1 [3840/60000 (6%)]\tLoss: 0.160034\n",
            "Train Epoch: 1 [4480/60000 (7%)]\tLoss: 0.363137\n",
            "Train Epoch: 1 [5120/60000 (9%)]\tLoss: 0.231735\n",
            "Train Epoch: 1 [5760/60000 (10%)]\tLoss: 0.127715\n",
            "Train Epoch: 1 [6400/60000 (11%)]\tLoss: 0.206499\n",
            "Train Epoch: 1 [7040/60000 (12%)]\tLoss: 0.208463\n",
            "Train Epoch: 1 [7680/60000 (13%)]\tLoss: 0.386453\n",
            "Train Epoch: 1 [8320/60000 (14%)]\tLoss: 0.157904\n",
            "Train Epoch: 1 [8960/60000 (15%)]\tLoss: 0.183605\n",
            "Train Epoch: 1 [9600/60000 (16%)]\tLoss: 0.397750\n",
            "Train Epoch: 1 [10240/60000 (17%)]\tLoss: 0.337111\n",
            "Train Epoch: 1 [10880/60000 (18%)]\tLoss: 0.324865\n",
            "Train Epoch: 1 [11520/60000 (19%)]\tLoss: 0.167023\n",
            "Train Epoch: 1 [12160/60000 (20%)]\tLoss: 0.213859\n",
            "Train Epoch: 1 [12800/60000 (21%)]\tLoss: 0.218941\n",
            "Train Epoch: 1 [13440/60000 (22%)]\tLoss: 0.299834\n",
            "Train Epoch: 1 [14080/60000 (23%)]\tLoss: 0.250666\n",
            "Train Epoch: 1 [14720/60000 (25%)]\tLoss: 0.170234\n",
            "Train Epoch: 1 [15360/60000 (26%)]\tLoss: 0.663706\n",
            "Train Epoch: 1 [16000/60000 (27%)]\tLoss: 0.215998\n",
            "Train Epoch: 1 [16640/60000 (28%)]\tLoss: 0.146741\n",
            "Train Epoch: 1 [17280/60000 (29%)]\tLoss: 0.175275\n",
            "Train Epoch: 1 [17920/60000 (30%)]\tLoss: 0.270091\n",
            "Train Epoch: 1 [18560/60000 (31%)]\tLoss: 0.231607\n",
            "Train Epoch: 1 [19200/60000 (32%)]\tLoss: 0.147564\n",
            "Train Epoch: 1 [19840/60000 (33%)]\tLoss: 0.223353\n",
            "Train Epoch: 1 [20480/60000 (34%)]\tLoss: 0.311595\n",
            "Train Epoch: 1 [21120/60000 (35%)]\tLoss: 0.193975\n",
            "Train Epoch: 1 [21760/60000 (36%)]\tLoss: 0.257603\n",
            "Train Epoch: 1 [22400/60000 (37%)]\tLoss: 0.224786\n",
            "Train Epoch: 1 [23040/60000 (38%)]\tLoss: 0.317919\n",
            "Train Epoch: 1 [23680/60000 (39%)]\tLoss: 0.340926\n",
            "Train Epoch: 1 [24320/60000 (41%)]\tLoss: 0.275972\n",
            "Train Epoch: 1 [24960/60000 (42%)]\tLoss: 0.231368\n",
            "Train Epoch: 1 [25600/60000 (43%)]\tLoss: 0.176745\n",
            "Train Epoch: 1 [26240/60000 (44%)]\tLoss: 0.166330\n",
            "Train Epoch: 1 [26880/60000 (45%)]\tLoss: 0.206764\n",
            "Train Epoch: 1 [27520/60000 (46%)]\tLoss: 0.419488\n",
            "Train Epoch: 1 [28160/60000 (47%)]\tLoss: 0.183352\n",
            "Train Epoch: 1 [28800/60000 (48%)]\tLoss: 0.172086\n",
            "Train Epoch: 1 [29440/60000 (49%)]\tLoss: 0.373906\n",
            "Train Epoch: 1 [30080/60000 (50%)]\tLoss: 0.312418\n",
            "Train Epoch: 1 [30720/60000 (51%)]\tLoss: 0.150824\n",
            "Train Epoch: 1 [31360/60000 (52%)]\tLoss: 0.130760\n",
            "Train Epoch: 1 [32000/60000 (53%)]\tLoss: 0.264834\n",
            "Train Epoch: 1 [32640/60000 (54%)]\tLoss: 0.231198\n",
            "Train Epoch: 1 [33280/60000 (55%)]\tLoss: 0.310126\n",
            "Train Epoch: 1 [33920/60000 (57%)]\tLoss: 0.199257\n",
            "Train Epoch: 1 [34560/60000 (58%)]\tLoss: 0.241558\n",
            "Train Epoch: 1 [35200/60000 (59%)]\tLoss: 0.176669\n",
            "Train Epoch: 1 [35840/60000 (60%)]\tLoss: 0.224950\n",
            "Train Epoch: 1 [36480/60000 (61%)]\tLoss: 0.110545\n",
            "Train Epoch: 1 [37120/60000 (62%)]\tLoss: 0.308802\n",
            "Train Epoch: 1 [37760/60000 (63%)]\tLoss: 0.193526\n",
            "Train Epoch: 1 [38400/60000 (64%)]\tLoss: 0.315192\n",
            "Train Epoch: 1 [39040/60000 (65%)]\tLoss: 0.183000\n",
            "Train Epoch: 1 [39680/60000 (66%)]\tLoss: 0.300886\n",
            "Train Epoch: 1 [40320/60000 (67%)]\tLoss: 0.123466\n",
            "Train Epoch: 1 [40960/60000 (68%)]\tLoss: 0.168561\n",
            "Train Epoch: 1 [41600/60000 (69%)]\tLoss: 0.169285\n",
            "Train Epoch: 1 [42240/60000 (70%)]\tLoss: 0.161977\n",
            "Train Epoch: 1 [42880/60000 (71%)]\tLoss: 0.171035\n",
            "Train Epoch: 1 [43520/60000 (72%)]\tLoss: 0.199156\n",
            "Train Epoch: 1 [44160/60000 (74%)]\tLoss: 0.163835\n",
            "Train Epoch: 1 [44800/60000 (75%)]\tLoss: 0.406060\n",
            "Train Epoch: 1 [45440/60000 (76%)]\tLoss: 0.146618\n",
            "Train Epoch: 1 [46080/60000 (77%)]\tLoss: 0.167368\n",
            "Train Epoch: 1 [46720/60000 (78%)]\tLoss: 0.188160\n",
            "Train Epoch: 1 [47360/60000 (79%)]\tLoss: 0.330512\n",
            "Train Epoch: 1 [48000/60000 (80%)]\tLoss: 0.217588\n",
            "Train Epoch: 1 [48640/60000 (81%)]\tLoss: 0.246209\n",
            "Train Epoch: 1 [49280/60000 (82%)]\tLoss: 0.238762\n",
            "Train Epoch: 1 [49920/60000 (83%)]\tLoss: 0.170173\n",
            "Train Epoch: 1 [50560/60000 (84%)]\tLoss: 0.328683\n",
            "Train Epoch: 1 [51200/60000 (85%)]\tLoss: 0.266948\n",
            "Train Epoch: 1 [51840/60000 (86%)]\tLoss: 0.292116\n",
            "Train Epoch: 1 [52480/60000 (87%)]\tLoss: 0.259771\n",
            "Train Epoch: 1 [53120/60000 (88%)]\tLoss: 0.303569\n",
            "Train Epoch: 1 [53760/60000 (90%)]\tLoss: 0.273529\n",
            "Train Epoch: 1 [54400/60000 (91%)]\tLoss: 0.197869\n",
            "Train Epoch: 1 [55040/60000 (92%)]\tLoss: 0.173938\n",
            "Train Epoch: 1 [55680/60000 (93%)]\tLoss: 0.320511\n",
            "Train Epoch: 1 [56320/60000 (94%)]\tLoss: 0.179110\n",
            "Train Epoch: 1 [56960/60000 (95%)]\tLoss: 0.286790\n",
            "Train Epoch: 1 [57600/60000 (96%)]\tLoss: 0.132680\n",
            "Train Epoch: 1 [58240/60000 (97%)]\tLoss: 0.091814\n",
            "Train Epoch: 1 [58880/60000 (98%)]\tLoss: 0.331734\n",
            "Train Epoch: 1 [59520/60000 (99%)]\tLoss: 0.226544\n",
            "\n",
            "Test set: Avg. loss: 0.0698, Accuracy: 9775/10000 (98%)\n",
            "\n",
            "Train Epoch: 2 [0/60000 (0%)]\tLoss: 0.118280\n",
            "Train Epoch: 2 [640/60000 (1%)]\tLoss: 0.301677\n",
            "Train Epoch: 2 [1280/60000 (2%)]\tLoss: 0.388235\n",
            "Train Epoch: 2 [1920/60000 (3%)]\tLoss: 0.181777\n",
            "Train Epoch: 2 [2560/60000 (4%)]\tLoss: 0.180521\n",
            "Train Epoch: 2 [3200/60000 (5%)]\tLoss: 0.152705\n",
            "Train Epoch: 2 [3840/60000 (6%)]\tLoss: 0.307696\n",
            "Train Epoch: 2 [4480/60000 (7%)]\tLoss: 0.331760\n",
            "Train Epoch: 2 [5120/60000 (9%)]\tLoss: 0.204103\n",
            "Train Epoch: 2 [5760/60000 (10%)]\tLoss: 0.078413\n",
            "Train Epoch: 2 [6400/60000 (11%)]\tLoss: 0.204785\n",
            "Train Epoch: 2 [7040/60000 (12%)]\tLoss: 0.167897\n",
            "Train Epoch: 2 [7680/60000 (13%)]\tLoss: 0.057203\n",
            "Train Epoch: 2 [8320/60000 (14%)]\tLoss: 0.124752\n",
            "Train Epoch: 2 [8960/60000 (15%)]\tLoss: 0.139710\n",
            "Train Epoch: 2 [9600/60000 (16%)]\tLoss: 0.160168\n",
            "Train Epoch: 2 [10240/60000 (17%)]\tLoss: 0.205542\n",
            "Train Epoch: 2 [10880/60000 (18%)]\tLoss: 0.225950\n",
            "Train Epoch: 2 [11520/60000 (19%)]\tLoss: 0.149619\n",
            "Train Epoch: 2 [12160/60000 (20%)]\tLoss: 0.118642\n",
            "Train Epoch: 2 [12800/60000 (21%)]\tLoss: 0.169990\n",
            "Train Epoch: 2 [13440/60000 (22%)]\tLoss: 0.206152\n",
            "Train Epoch: 2 [14080/60000 (23%)]\tLoss: 0.223941\n",
            "Train Epoch: 2 [14720/60000 (25%)]\tLoss: 0.215743\n",
            "Train Epoch: 2 [15360/60000 (26%)]\tLoss: 0.100903\n",
            "Train Epoch: 2 [16000/60000 (27%)]\tLoss: 0.204701\n",
            "Train Epoch: 2 [16640/60000 (28%)]\tLoss: 0.509183\n",
            "Train Epoch: 2 [17280/60000 (29%)]\tLoss: 0.321359\n",
            "Train Epoch: 2 [17920/60000 (30%)]\tLoss: 0.243253\n",
            "Train Epoch: 2 [18560/60000 (31%)]\tLoss: 0.256199\n",
            "Train Epoch: 2 [19200/60000 (32%)]\tLoss: 0.198779\n",
            "Train Epoch: 2 [19840/60000 (33%)]\tLoss: 0.215546\n",
            "Train Epoch: 2 [20480/60000 (34%)]\tLoss: 0.276197\n",
            "Train Epoch: 2 [21120/60000 (35%)]\tLoss: 0.092957\n",
            "Train Epoch: 2 [21760/60000 (36%)]\tLoss: 0.230642\n",
            "Train Epoch: 2 [22400/60000 (37%)]\tLoss: 0.108248\n",
            "Train Epoch: 2 [23040/60000 (38%)]\tLoss: 0.125722\n",
            "Train Epoch: 2 [23680/60000 (39%)]\tLoss: 0.209253\n",
            "Train Epoch: 2 [24320/60000 (41%)]\tLoss: 0.179931\n",
            "Train Epoch: 2 [24960/60000 (42%)]\tLoss: 0.203426\n",
            "Train Epoch: 2 [25600/60000 (43%)]\tLoss: 0.093094\n",
            "Train Epoch: 2 [26240/60000 (44%)]\tLoss: 0.165387\n",
            "Train Epoch: 2 [26880/60000 (45%)]\tLoss: 0.217365\n",
            "Train Epoch: 2 [27520/60000 (46%)]\tLoss: 0.175558\n",
            "Train Epoch: 2 [28160/60000 (47%)]\tLoss: 0.170458\n",
            "Train Epoch: 2 [28800/60000 (48%)]\tLoss: 0.199460\n",
            "Train Epoch: 2 [29440/60000 (49%)]\tLoss: 0.115825\n",
            "Train Epoch: 2 [30080/60000 (50%)]\tLoss: 0.324122\n",
            "Train Epoch: 2 [30720/60000 (51%)]\tLoss: 0.305058\n",
            "Train Epoch: 2 [31360/60000 (52%)]\tLoss: 0.194165\n",
            "Train Epoch: 2 [32000/60000 (53%)]\tLoss: 0.324757\n",
            "Train Epoch: 2 [32640/60000 (54%)]\tLoss: 0.151225\n",
            "Train Epoch: 2 [33280/60000 (55%)]\tLoss: 0.472288\n",
            "Train Epoch: 2 [33920/60000 (57%)]\tLoss: 0.343727\n",
            "Train Epoch: 2 [34560/60000 (58%)]\tLoss: 0.171701\n",
            "Train Epoch: 2 [35200/60000 (59%)]\tLoss: 0.322665\n",
            "Train Epoch: 2 [35840/60000 (60%)]\tLoss: 0.260031\n",
            "Train Epoch: 2 [36480/60000 (61%)]\tLoss: 0.259623\n",
            "Train Epoch: 2 [37120/60000 (62%)]\tLoss: 0.133046\n",
            "Train Epoch: 2 [37760/60000 (63%)]\tLoss: 0.176631\n",
            "Train Epoch: 2 [38400/60000 (64%)]\tLoss: 0.169371\n",
            "Train Epoch: 2 [39040/60000 (65%)]\tLoss: 0.217080\n",
            "Train Epoch: 2 [39680/60000 (66%)]\tLoss: 0.287174\n",
            "Train Epoch: 2 [40320/60000 (67%)]\tLoss: 0.217290\n",
            "Train Epoch: 2 [40960/60000 (68%)]\tLoss: 0.199610\n",
            "Train Epoch: 2 [41600/60000 (69%)]\tLoss: 0.293158\n",
            "Train Epoch: 2 [42240/60000 (70%)]\tLoss: 0.382291\n",
            "Train Epoch: 2 [42880/60000 (71%)]\tLoss: 0.188215\n",
            "Train Epoch: 2 [43520/60000 (72%)]\tLoss: 0.179064\n",
            "Train Epoch: 2 [44160/60000 (74%)]\tLoss: 0.286386\n",
            "Train Epoch: 2 [44800/60000 (75%)]\tLoss: 0.208356\n",
            "Train Epoch: 2 [45440/60000 (76%)]\tLoss: 0.242702\n",
            "Train Epoch: 2 [46080/60000 (77%)]\tLoss: 0.287462\n",
            "Train Epoch: 2 [46720/60000 (78%)]\tLoss: 0.279186\n",
            "Train Epoch: 2 [47360/60000 (79%)]\tLoss: 0.136791\n",
            "Train Epoch: 2 [48000/60000 (80%)]\tLoss: 0.267210\n",
            "Train Epoch: 2 [48640/60000 (81%)]\tLoss: 0.122689\n",
            "Train Epoch: 2 [49280/60000 (82%)]\tLoss: 0.216448\n",
            "Train Epoch: 2 [49920/60000 (83%)]\tLoss: 0.108594\n",
            "Train Epoch: 2 [50560/60000 (84%)]\tLoss: 0.255154\n",
            "Train Epoch: 2 [51200/60000 (85%)]\tLoss: 0.234440\n",
            "Train Epoch: 2 [51840/60000 (86%)]\tLoss: 0.164580\n",
            "Train Epoch: 2 [52480/60000 (87%)]\tLoss: 0.394607\n",
            "Train Epoch: 2 [53120/60000 (88%)]\tLoss: 0.169835\n",
            "Train Epoch: 2 [53760/60000 (90%)]\tLoss: 0.265947\n",
            "Train Epoch: 2 [54400/60000 (91%)]\tLoss: 0.191047\n",
            "Train Epoch: 2 [55040/60000 (92%)]\tLoss: 0.208057\n",
            "Train Epoch: 2 [55680/60000 (93%)]\tLoss: 0.122131\n",
            "Train Epoch: 2 [56320/60000 (94%)]\tLoss: 0.165608\n",
            "Train Epoch: 2 [56960/60000 (95%)]\tLoss: 0.214910\n",
            "Train Epoch: 2 [57600/60000 (96%)]\tLoss: 0.266548\n",
            "Train Epoch: 2 [58240/60000 (97%)]\tLoss: 0.298529\n",
            "Train Epoch: 2 [58880/60000 (98%)]\tLoss: 0.194639\n",
            "Train Epoch: 2 [59520/60000 (99%)]\tLoss: 0.272851\n",
            "\n",
            "Test set: Avg. loss: 0.0621, Accuracy: 9800/10000 (98%)\n",
            "\n",
            "Train Epoch: 3 [0/60000 (0%)]\tLoss: 0.186630\n",
            "Train Epoch: 3 [640/60000 (1%)]\tLoss: 0.421601\n",
            "Train Epoch: 3 [1280/60000 (2%)]\tLoss: 0.363433\n",
            "Train Epoch: 3 [1920/60000 (3%)]\tLoss: 0.319683\n",
            "Train Epoch: 3 [2560/60000 (4%)]\tLoss: 0.061346\n",
            "Train Epoch: 3 [3200/60000 (5%)]\tLoss: 0.248532\n",
            "Train Epoch: 3 [3840/60000 (6%)]\tLoss: 0.157500\n",
            "Train Epoch: 3 [4480/60000 (7%)]\tLoss: 0.338767\n",
            "Train Epoch: 3 [5120/60000 (9%)]\tLoss: 0.228081\n",
            "Train Epoch: 3 [5760/60000 (10%)]\tLoss: 0.161565\n",
            "Train Epoch: 3 [6400/60000 (11%)]\tLoss: 0.272667\n",
            "Train Epoch: 3 [7040/60000 (12%)]\tLoss: 0.150684\n",
            "Train Epoch: 3 [7680/60000 (13%)]\tLoss: 0.129839\n",
            "Train Epoch: 3 [8320/60000 (14%)]\tLoss: 0.130050\n",
            "Train Epoch: 3 [8960/60000 (15%)]\tLoss: 0.181321\n",
            "Train Epoch: 3 [9600/60000 (16%)]\tLoss: 0.313215\n",
            "Train Epoch: 3 [10240/60000 (17%)]\tLoss: 0.290217\n",
            "Train Epoch: 3 [10880/60000 (18%)]\tLoss: 0.401147\n",
            "Train Epoch: 3 [11520/60000 (19%)]\tLoss: 0.320514\n",
            "Train Epoch: 3 [12160/60000 (20%)]\tLoss: 0.237702\n",
            "Train Epoch: 3 [12800/60000 (21%)]\tLoss: 0.172995\n",
            "Train Epoch: 3 [13440/60000 (22%)]\tLoss: 0.193362\n",
            "Train Epoch: 3 [14080/60000 (23%)]\tLoss: 0.094492\n",
            "Train Epoch: 3 [14720/60000 (25%)]\tLoss: 0.276378\n",
            "Train Epoch: 3 [15360/60000 (26%)]\tLoss: 0.063431\n",
            "Train Epoch: 3 [16000/60000 (27%)]\tLoss: 0.332592\n",
            "Train Epoch: 3 [16640/60000 (28%)]\tLoss: 0.188113\n",
            "Train Epoch: 3 [17280/60000 (29%)]\tLoss: 0.136699\n",
            "Train Epoch: 3 [17920/60000 (30%)]\tLoss: 0.403446\n",
            "Train Epoch: 3 [18560/60000 (31%)]\tLoss: 0.255937\n",
            "Train Epoch: 3 [19200/60000 (32%)]\tLoss: 0.080242\n",
            "Train Epoch: 3 [19840/60000 (33%)]\tLoss: 0.227563\n",
            "Train Epoch: 3 [20480/60000 (34%)]\tLoss: 0.411140\n",
            "Train Epoch: 3 [21120/60000 (35%)]\tLoss: 0.129017\n",
            "Train Epoch: 3 [21760/60000 (36%)]\tLoss: 0.084289\n",
            "Train Epoch: 3 [22400/60000 (37%)]\tLoss: 0.267215\n",
            "Train Epoch: 3 [23040/60000 (38%)]\tLoss: 0.223599\n",
            "Train Epoch: 3 [23680/60000 (39%)]\tLoss: 0.059638\n",
            "Train Epoch: 3 [24320/60000 (41%)]\tLoss: 0.242595\n",
            "Train Epoch: 3 [24960/60000 (42%)]\tLoss: 0.088994\n",
            "Train Epoch: 3 [25600/60000 (43%)]\tLoss: 0.132633\n",
            "Train Epoch: 3 [26240/60000 (44%)]\tLoss: 0.200622\n",
            "Train Epoch: 3 [26880/60000 (45%)]\tLoss: 0.193498\n",
            "Train Epoch: 3 [27520/60000 (46%)]\tLoss: 0.164423\n",
            "Train Epoch: 3 [28160/60000 (47%)]\tLoss: 0.151603\n",
            "Train Epoch: 3 [28800/60000 (48%)]\tLoss: 0.129008\n",
            "Train Epoch: 3 [29440/60000 (49%)]\tLoss: 0.098187\n",
            "Train Epoch: 3 [30080/60000 (50%)]\tLoss: 0.279738\n",
            "Train Epoch: 3 [30720/60000 (51%)]\tLoss: 0.427762\n",
            "Train Epoch: 3 [31360/60000 (52%)]\tLoss: 0.159595\n",
            "Train Epoch: 3 [32000/60000 (53%)]\tLoss: 0.285454\n",
            "Train Epoch: 3 [32640/60000 (54%)]\tLoss: 0.192013\n",
            "Train Epoch: 3 [33280/60000 (55%)]\tLoss: 0.218089\n",
            "Train Epoch: 3 [33920/60000 (57%)]\tLoss: 0.225785\n",
            "Train Epoch: 3 [34560/60000 (58%)]\tLoss: 0.193921\n",
            "Train Epoch: 3 [35200/60000 (59%)]\tLoss: 0.178775\n",
            "Train Epoch: 3 [35840/60000 (60%)]\tLoss: 0.305986\n",
            "Train Epoch: 3 [36480/60000 (61%)]\tLoss: 0.158498\n",
            "Train Epoch: 3 [37120/60000 (62%)]\tLoss: 0.112160\n",
            "Train Epoch: 3 [37760/60000 (63%)]\tLoss: 0.257110\n",
            "Train Epoch: 3 [38400/60000 (64%)]\tLoss: 0.098131\n",
            "Train Epoch: 3 [39040/60000 (65%)]\tLoss: 0.502663\n",
            "Train Epoch: 3 [39680/60000 (66%)]\tLoss: 0.181443\n",
            "Train Epoch: 3 [40320/60000 (67%)]\tLoss: 0.150422\n",
            "Train Epoch: 3 [40960/60000 (68%)]\tLoss: 0.311747\n",
            "Train Epoch: 3 [41600/60000 (69%)]\tLoss: 0.139240\n",
            "Train Epoch: 3 [42240/60000 (70%)]\tLoss: 0.106760\n",
            "Train Epoch: 3 [42880/60000 (71%)]\tLoss: 0.226437\n",
            "Train Epoch: 3 [43520/60000 (72%)]\tLoss: 0.327894\n",
            "Train Epoch: 3 [44160/60000 (74%)]\tLoss: 0.195182\n",
            "Train Epoch: 3 [44800/60000 (75%)]\tLoss: 0.101780\n",
            "Train Epoch: 3 [45440/60000 (76%)]\tLoss: 0.212478\n",
            "Train Epoch: 3 [46080/60000 (77%)]\tLoss: 0.086091\n",
            "Train Epoch: 3 [46720/60000 (78%)]\tLoss: 0.239215\n",
            "Train Epoch: 3 [47360/60000 (79%)]\tLoss: 0.191172\n",
            "Train Epoch: 3 [48000/60000 (80%)]\tLoss: 0.324372\n",
            "Train Epoch: 3 [48640/60000 (81%)]\tLoss: 0.295170\n",
            "Train Epoch: 3 [49280/60000 (82%)]\tLoss: 0.155895\n",
            "Train Epoch: 3 [49920/60000 (83%)]\tLoss: 0.169692\n",
            "Train Epoch: 3 [50560/60000 (84%)]\tLoss: 0.260576\n",
            "Train Epoch: 3 [51200/60000 (85%)]\tLoss: 0.082138\n",
            "Train Epoch: 3 [51840/60000 (86%)]\tLoss: 0.486586\n",
            "Train Epoch: 3 [52480/60000 (87%)]\tLoss: 0.225358\n",
            "Train Epoch: 3 [53120/60000 (88%)]\tLoss: 0.157890\n",
            "Train Epoch: 3 [53760/60000 (90%)]\tLoss: 0.072171\n",
            "Train Epoch: 3 [54400/60000 (91%)]\tLoss: 0.178115\n",
            "Train Epoch: 3 [55040/60000 (92%)]\tLoss: 0.083425\n",
            "Train Epoch: 3 [55680/60000 (93%)]\tLoss: 0.101253\n",
            "Train Epoch: 3 [56320/60000 (94%)]\tLoss: 0.049448\n",
            "Train Epoch: 3 [56960/60000 (95%)]\tLoss: 0.476554\n",
            "Train Epoch: 3 [57600/60000 (96%)]\tLoss: 0.280858\n",
            "Train Epoch: 3 [58240/60000 (97%)]\tLoss: 0.211361\n",
            "Train Epoch: 3 [58880/60000 (98%)]\tLoss: 0.245130\n",
            "Train Epoch: 3 [59520/60000 (99%)]\tLoss: 0.216589\n",
            "\n",
            "Test set: Avg. loss: 0.0618, Accuracy: 9801/10000 (98%)\n",
            "\n"
          ],
          "name": "stdout"
        }
      ]
    },
    {
      "cell_type": "markdown",
      "metadata": {
        "id": "tF19_k8Z9nbA"
      },
      "source": [
        "#### Ocena wydajności modelu\n",
        "\n",
        "I to wszystko. Po zaledwie 3 epokach treningu udało nam się już osiągnąć 97% dokładności na zestawie testowym! Zaczęliśmy od losowo zainicjowanych parametrów i zgodnie z oczekiwaniami uzyskaliśmy tylko około 10% dokładności na zestawie testowym przed rozpoczęciem treningu.\n",
        "\n",
        "Wykreślmy naszą krzywą treningową."
      ]
    },
    {
      "cell_type": "code",
      "metadata": {
        "colab": {
          "base_uri": "https://localhost:8080/",
          "height": 541
        },
        "id": "52Qmfj279vj4",
        "outputId": "77b80a61-0136-4569-cfdb-52ae7d000e79"
      },
      "source": [
        "fig = plt.figure()\n",
        "plt.plot(train_counter, train_losses, color='blue')\n",
        "# plt.scatter(test_counter, test_losses, color='red')\n",
        "plt.legend(['Train Loss', 'Test Loss'], loc='upper right')\n",
        "plt.xlabel('number of training examples seen')\n",
        "plt.ylabel('negative log likelihood loss')\n",
        "fig"
      ],
      "execution_count": null,
      "outputs": [
        {
          "output_type": "execute_result",
          "data": {
            "image/png": "[encoded data removed]",
            "text/plain": [
              "<Figure size 432x288 with 1 Axes>"
            ]
          },
          "metadata": {
            "tags": []
          },
          "execution_count": 36
        },
        {
          "output_type": "display_data",
          "data": {
            "image/png": "[encoded data removed]",
            "text/plain": [
              "<Figure size 432x288 with 1 Axes>"
            ]
          },
          "metadata": {
            "tags": [],
            "needs_background": "light"
          }
        }
      ]
    },
    {
      "cell_type": "markdown",
      "metadata": {
        "id": "9HqWkLE490R7"
      },
      "source": [
        "wygląda na to, że moglibyśmy nawet kontynuować trening przez kilka kolejnych epok!\n",
        "\n",
        "Ale zanim to nastąpi, ponownie przyjrzyjmy się kilku przykładom, tak jak to zrobiliśmy wcześniej, i porównajmy wyniki modelu."
      ]
    },
    {
      "cell_type": "code",
      "metadata": {
        "colab": {
          "base_uri": "https://localhost:8080/"
        },
        "id": "cVVZxH6L93Ee",
        "outputId": "c66ae728-ce5d-4815-d76c-0bca989ffb33"
      },
      "source": [
        "with torch.no_grad():\n",
        "  output = network(example_data)"
      ],
      "execution_count": null,
      "outputs": [
        {
          "output_type": "stream",
          "text": [
            "/usr/local/lib/python3.7/dist-packages/ipykernel_launcher.py:17: UserWarning: Implicit dimension choice for log_softmax has been deprecated. Change the call to include dim=X as an argument.\n"
          ],
          "name": "stderr"
        }
      ]
    },
    {
      "cell_type": "code",
      "metadata": {
        "colab": {
          "base_uri": "https://localhost:8080/",
          "height": 551
        },
        "id": "6HyC1OzT93-K",
        "outputId": "eca4488b-cfe9-4910-ab5e-cb4310feaf62"
      },
      "source": [
        "fig = plt.figure()\n",
        "for i in range(6):\n",
        "  plt.subplot(2,3,i+1)\n",
        "  plt.tight_layout()\n",
        "  plt.imshow(example_data[i][0], cmap='gray', interpolation='none')\n",
        "  plt.title(\"Prediction: {}\".format(\n",
        "    output.data.max(1, keepdim=True)[1][i].item()))\n",
        "  plt.xticks([])\n",
        "  plt.yticks([])\n",
        "fig"
      ],
      "execution_count": null,
      "outputs": [
        {
          "output_type": "execute_result",
          "data": {
            "image/png": "[encoded data removed]",
            "text/plain": [
              "<Figure size 432x288 with 6 Axes>"
            ]
          },
          "metadata": {
            "tags": []
          },
          "execution_count": 38
        },
        {
          "output_type": "display_data",
          "data": {
            "image/png": "[encoded data removed]",
            "text/plain": [
              "<Figure size 432x288 with 6 Axes>"
            ]
          },
          "metadata": {
            "tags": []
          }
        }
      ]
    },
    {
      "cell_type": "markdown",
      "metadata": {
        "id": "ESkw-YgP98GR"
      },
      "source": [
        "Prognozy naszego modelu wydają się trafne dla tych przykładów!"
      ]
    },
    {
      "cell_type": "markdown",
      "metadata": {
        "id": "4sNbSrFd-CZ5"
      },
      "source": [
        "#### Kontynuacja szkolenia z punktów kontrolnych\n",
        "\n",
        "Teraz kontynuujmy trenowanie sieci, a raczej zobaczmy, jak możemy kontynuować trening z state_dicts, które zapisaliśmy podczas naszego pierwszego treningu. Zainicjujemy nowy zestaw sieci i optymalizatorów."
      ]
    },
    {
      "cell_type": "code",
      "metadata": {
        "id": "W2FgaxOn-RDg"
      },
      "source": [
        "continued_network = Net()\n",
        "continued_optimizer = optim.SGD(network.parameters(), lr=learning_rate, momentum=momentum)"
      ],
      "execution_count": null,
      "outputs": []
    },
    {
      "cell_type": "markdown",
      "metadata": {
        "id": "7cJxsiWZ-UUp"
      },
      "source": [
        "Używając .load_state_dict() możemy teraz załadować wewnętrzny stan sieci i optymalizatora, kiedy ostatnio je zapisywaliśmy."
      ]
    },
    {
      "cell_type": "code",
      "metadata": {
        "id": "9fS_12wS-VTJ"
      },
      "source": [
        "network_state_dict = torch.load('results/model.pth')\n",
        "continued_network.load_state_dict(network_state_dict)\n",
        "\n",
        "optimizer_state_dict = torch.load('results/optimizer.pth')\n",
        "continued_optimizer.load_state_dict(optimizer_state_dict)"
      ],
      "execution_count": null,
      "outputs": []
    },
    {
      "cell_type": "markdown",
      "metadata": {
        "id": "bRjSHJ1K-buL"
      },
      "source": [
        "Znowu uruchomienie pętli treningowej powinno od razu podjąć trening tam, gdzie go zostawiliśmy. Aby to sprawdzić, użyjmy po prostu tych samych list, co poprzednio, aby śledzić wartości strat. Ze względu na sposób, w jaki skonstruowaliśmy licznik testowy dla liczby widocznych przykładów uczących, musimy ręcznie dodać go tutaj."
      ]
    },
    {
      "cell_type": "code",
      "metadata": {
        "colab": {
          "base_uri": "https://localhost:8080/"
        },
        "id": "vAnt5oBJ-aa-",
        "outputId": "eed25d4f-21cc-4a98-9007-dd33ce8be6c3"
      },
      "source": [
        "for i in range(4,9):\n",
        "  test_counter.append(i*len(train_loader.dataset))\n",
        "  train(i)\n",
        "  test()"
      ],
      "execution_count": null,
      "outputs": [
        {
          "output_type": "stream",
          "text": [
            "/usr/local/lib/python3.7/dist-packages/ipykernel_launcher.py:17: UserWarning: Implicit dimension choice for log_softmax has been deprecated. Change the call to include dim=X as an argument.\n"
          ],
          "name": "stderr"
        },
        {
          "output_type": "stream",
          "text": [
            "Train Epoch: 4 [0/60000 (0%)]\tLoss: 0.369876\n",
            "Train Epoch: 4 [640/60000 (1%)]\tLoss: 0.171069\n",
            "Train Epoch: 4 [1280/60000 (2%)]\tLoss: 0.203685\n",
            "Train Epoch: 4 [1920/60000 (3%)]\tLoss: 0.273256\n",
            "Train Epoch: 4 [2560/60000 (4%)]\tLoss: 0.104333\n",
            "Train Epoch: 4 [3200/60000 (5%)]\tLoss: 0.124776\n",
            "Train Epoch: 4 [3840/60000 (6%)]\tLoss: 0.170782\n",
            "Train Epoch: 4 [4480/60000 (7%)]\tLoss: 0.290775\n",
            "Train Epoch: 4 [5120/60000 (9%)]\tLoss: 0.245911\n",
            "Train Epoch: 4 [5760/60000 (10%)]\tLoss: 0.240257\n",
            "Train Epoch: 4 [6400/60000 (11%)]\tLoss: 0.114846\n",
            "Train Epoch: 4 [7040/60000 (12%)]\tLoss: 0.490420\n",
            "Train Epoch: 4 [7680/60000 (13%)]\tLoss: 0.387034\n",
            "Train Epoch: 4 [8320/60000 (14%)]\tLoss: 0.274801\n",
            "Train Epoch: 4 [8960/60000 (15%)]\tLoss: 0.317955\n",
            "Train Epoch: 4 [9600/60000 (16%)]\tLoss: 0.219276\n",
            "Train Epoch: 4 [10240/60000 (17%)]\tLoss: 0.087524\n",
            "Train Epoch: 4 [10880/60000 (18%)]\tLoss: 0.107413\n",
            "Train Epoch: 4 [11520/60000 (19%)]\tLoss: 0.101950\n",
            "Train Epoch: 4 [12160/60000 (20%)]\tLoss: 0.176763\n",
            "Train Epoch: 4 [12800/60000 (21%)]\tLoss: 0.127712\n",
            "Train Epoch: 4 [13440/60000 (22%)]\tLoss: 0.221912\n",
            "Train Epoch: 4 [14080/60000 (23%)]\tLoss: 0.248444\n",
            "Train Epoch: 4 [14720/60000 (25%)]\tLoss: 0.230017\n",
            "Train Epoch: 4 [15360/60000 (26%)]\tLoss: 0.190755\n",
            "Train Epoch: 4 [16000/60000 (27%)]\tLoss: 0.097059\n",
            "Train Epoch: 4 [16640/60000 (28%)]\tLoss: 0.202675\n",
            "Train Epoch: 4 [17280/60000 (29%)]\tLoss: 0.136370\n",
            "Train Epoch: 4 [17920/60000 (30%)]\tLoss: 0.456758\n",
            "Train Epoch: 4 [18560/60000 (31%)]\tLoss: 0.407379\n",
            "Train Epoch: 4 [19200/60000 (32%)]\tLoss: 0.255174\n",
            "Train Epoch: 4 [19840/60000 (33%)]\tLoss: 0.180785\n",
            "Train Epoch: 4 [20480/60000 (34%)]\tLoss: 0.254669\n",
            "Train Epoch: 4 [21120/60000 (35%)]\tLoss: 0.144807\n",
            "Train Epoch: 4 [21760/60000 (36%)]\tLoss: 0.344322\n",
            "Train Epoch: 4 [22400/60000 (37%)]\tLoss: 0.128706\n",
            "Train Epoch: 4 [23040/60000 (38%)]\tLoss: 0.193882\n",
            "Train Epoch: 4 [23680/60000 (39%)]\tLoss: 0.232289\n",
            "Train Epoch: 4 [24320/60000 (41%)]\tLoss: 0.355386\n",
            "Train Epoch: 4 [24960/60000 (42%)]\tLoss: 0.210208\n",
            "Train Epoch: 4 [25600/60000 (43%)]\tLoss: 0.218721\n",
            "Train Epoch: 4 [26240/60000 (44%)]\tLoss: 0.199007\n",
            "Train Epoch: 4 [26880/60000 (45%)]\tLoss: 0.274446\n",
            "Train Epoch: 4 [27520/60000 (46%)]\tLoss: 0.204257\n",
            "Train Epoch: 4 [28160/60000 (47%)]\tLoss: 0.111966\n",
            "Train Epoch: 4 [28800/60000 (48%)]\tLoss: 0.299584\n",
            "Train Epoch: 4 [29440/60000 (49%)]\tLoss: 0.173724\n",
            "Train Epoch: 4 [30080/60000 (50%)]\tLoss: 0.273129\n",
            "Train Epoch: 4 [30720/60000 (51%)]\tLoss: 0.083013\n",
            "Train Epoch: 4 [31360/60000 (52%)]\tLoss: 0.277294\n",
            "Train Epoch: 4 [32000/60000 (53%)]\tLoss: 0.117528\n",
            "Train Epoch: 4 [32640/60000 (54%)]\tLoss: 0.238976\n",
            "Train Epoch: 4 [33280/60000 (55%)]\tLoss: 0.341545\n",
            "Train Epoch: 4 [33920/60000 (57%)]\tLoss: 0.157951\n",
            "Train Epoch: 4 [34560/60000 (58%)]\tLoss: 0.122041\n",
            "Train Epoch: 4 [35200/60000 (59%)]\tLoss: 0.099123\n",
            "Train Epoch: 4 [35840/60000 (60%)]\tLoss: 0.213806\n",
            "Train Epoch: 4 [36480/60000 (61%)]\tLoss: 0.190589\n",
            "Train Epoch: 4 [37120/60000 (62%)]\tLoss: 0.275865\n",
            "Train Epoch: 4 [37760/60000 (63%)]\tLoss: 0.144819\n",
            "Train Epoch: 4 [38400/60000 (64%)]\tLoss: 0.229455\n",
            "Train Epoch: 4 [39040/60000 (65%)]\tLoss: 0.152429\n",
            "Train Epoch: 4 [39680/60000 (66%)]\tLoss: 0.234397\n",
            "Train Epoch: 4 [40320/60000 (67%)]\tLoss: 0.234284\n",
            "Train Epoch: 4 [40960/60000 (68%)]\tLoss: 0.402644\n",
            "Train Epoch: 4 [41600/60000 (69%)]\tLoss: 0.136986\n",
            "Train Epoch: 4 [42240/60000 (70%)]\tLoss: 0.302501\n",
            "Train Epoch: 4 [42880/60000 (71%)]\tLoss: 0.178194\n",
            "Train Epoch: 4 [43520/60000 (72%)]\tLoss: 0.139102\n",
            "Train Epoch: 4 [44160/60000 (74%)]\tLoss: 0.124266\n",
            "Train Epoch: 4 [44800/60000 (75%)]\tLoss: 0.143243\n",
            "Train Epoch: 4 [45440/60000 (76%)]\tLoss: 0.189662\n",
            "Train Epoch: 4 [46080/60000 (77%)]\tLoss: 0.307563\n",
            "Train Epoch: 4 [46720/60000 (78%)]\tLoss: 0.242024\n",
            "Train Epoch: 4 [47360/60000 (79%)]\tLoss: 0.184463\n",
            "Train Epoch: 4 [48000/60000 (80%)]\tLoss: 0.117518\n",
            "Train Epoch: 4 [48640/60000 (81%)]\tLoss: 0.231011\n",
            "Train Epoch: 4 [49280/60000 (82%)]\tLoss: 0.058741\n",
            "Train Epoch: 4 [49920/60000 (83%)]\tLoss: 0.141156\n",
            "Train Epoch: 4 [50560/60000 (84%)]\tLoss: 0.186248\n",
            "Train Epoch: 4 [51200/60000 (85%)]\tLoss: 0.120444\n",
            "Train Epoch: 4 [51840/60000 (86%)]\tLoss: 0.294059\n",
            "Train Epoch: 4 [52480/60000 (87%)]\tLoss: 0.130191\n",
            "Train Epoch: 4 [53120/60000 (88%)]\tLoss: 0.443179\n",
            "Train Epoch: 4 [53760/60000 (90%)]\tLoss: 0.223283\n",
            "Train Epoch: 4 [54400/60000 (91%)]\tLoss: 0.124429\n",
            "Train Epoch: 4 [55040/60000 (92%)]\tLoss: 0.106019\n",
            "Train Epoch: 4 [55680/60000 (93%)]\tLoss: 0.073072\n",
            "Train Epoch: 4 [56320/60000 (94%)]\tLoss: 0.157423\n",
            "Train Epoch: 4 [56960/60000 (95%)]\tLoss: 0.133787\n",
            "Train Epoch: 4 [57600/60000 (96%)]\tLoss: 0.138501\n",
            "Train Epoch: 4 [58240/60000 (97%)]\tLoss: 0.168853\n",
            "Train Epoch: 4 [58880/60000 (98%)]\tLoss: 0.128220\n",
            "Train Epoch: 4 [59520/60000 (99%)]\tLoss: 0.165463\n"
          ],
          "name": "stdout"
        },
        {
          "output_type": "stream",
          "text": [
            "/usr/local/lib/python3.7/dist-packages/torch/nn/_reduction.py:42: UserWarning: size_average and reduce args will be deprecated, please use reduction='sum' instead.\n",
            "  warnings.warn(warning.format(ret))\n"
          ],
          "name": "stderr"
        },
        {
          "output_type": "stream",
          "text": [
            "\n",
            "Test set: Avg. loss: 0.0585, Accuracy: 9803/10000 (98%)\n",
            "\n",
            "Train Epoch: 5 [0/60000 (0%)]\tLoss: 0.164518\n",
            "Train Epoch: 5 [640/60000 (1%)]\tLoss: 0.107032\n",
            "Train Epoch: 5 [1280/60000 (2%)]\tLoss: 0.300389\n",
            "Train Epoch: 5 [1920/60000 (3%)]\tLoss: 0.089154\n",
            "Train Epoch: 5 [2560/60000 (4%)]\tLoss: 0.046064\n",
            "Train Epoch: 5 [3200/60000 (5%)]\tLoss: 0.155102\n",
            "Train Epoch: 5 [3840/60000 (6%)]\tLoss: 0.107044\n",
            "Train Epoch: 5 [4480/60000 (7%)]\tLoss: 0.195975\n",
            "Train Epoch: 5 [5120/60000 (9%)]\tLoss: 0.130044\n",
            "Train Epoch: 5 [5760/60000 (10%)]\tLoss: 0.211107\n",
            "Train Epoch: 5 [6400/60000 (11%)]\tLoss: 0.267984\n",
            "Train Epoch: 5 [7040/60000 (12%)]\tLoss: 0.200268\n",
            "Train Epoch: 5 [7680/60000 (13%)]\tLoss: 0.499120\n",
            "Train Epoch: 5 [8320/60000 (14%)]\tLoss: 0.134076\n",
            "Train Epoch: 5 [8960/60000 (15%)]\tLoss: 0.252485\n",
            "Train Epoch: 5 [9600/60000 (16%)]\tLoss: 0.143255\n",
            "Train Epoch: 5 [10240/60000 (17%)]\tLoss: 0.191569\n",
            "Train Epoch: 5 [10880/60000 (18%)]\tLoss: 0.313010\n",
            "Train Epoch: 5 [11520/60000 (19%)]\tLoss: 0.195521\n",
            "Train Epoch: 5 [12160/60000 (20%)]\tLoss: 0.194906\n",
            "Train Epoch: 5 [12800/60000 (21%)]\tLoss: 0.222355\n",
            "Train Epoch: 5 [13440/60000 (22%)]\tLoss: 0.197461\n",
            "Train Epoch: 5 [14080/60000 (23%)]\tLoss: 0.341576\n",
            "Train Epoch: 5 [14720/60000 (25%)]\tLoss: 0.253521\n",
            "Train Epoch: 5 [15360/60000 (26%)]\tLoss: 0.232661\n",
            "Train Epoch: 5 [16000/60000 (27%)]\tLoss: 0.064438\n",
            "Train Epoch: 5 [16640/60000 (28%)]\tLoss: 0.105593\n",
            "Train Epoch: 5 [17280/60000 (29%)]\tLoss: 0.089254\n",
            "Train Epoch: 5 [17920/60000 (30%)]\tLoss: 0.266842\n",
            "Train Epoch: 5 [18560/60000 (31%)]\tLoss: 0.108811\n",
            "Train Epoch: 5 [19200/60000 (32%)]\tLoss: 0.074129\n",
            "Train Epoch: 5 [19840/60000 (33%)]\tLoss: 0.127570\n",
            "Train Epoch: 5 [20480/60000 (34%)]\tLoss: 0.151926\n",
            "Train Epoch: 5 [21120/60000 (35%)]\tLoss: 0.159039\n",
            "Train Epoch: 5 [21760/60000 (36%)]\tLoss: 0.100109\n",
            "Train Epoch: 5 [22400/60000 (37%)]\tLoss: 0.144110\n",
            "Train Epoch: 5 [23040/60000 (38%)]\tLoss: 0.273769\n",
            "Train Epoch: 5 [23680/60000 (39%)]\tLoss: 0.081238\n",
            "Train Epoch: 5 [24320/60000 (41%)]\tLoss: 0.244310\n",
            "Train Epoch: 5 [24960/60000 (42%)]\tLoss: 0.220117\n",
            "Train Epoch: 5 [25600/60000 (43%)]\tLoss: 0.178201\n",
            "Train Epoch: 5 [26240/60000 (44%)]\tLoss: 0.094833\n",
            "Train Epoch: 5 [26880/60000 (45%)]\tLoss: 0.220077\n",
            "Train Epoch: 5 [27520/60000 (46%)]\tLoss: 0.087750\n",
            "Train Epoch: 5 [28160/60000 (47%)]\tLoss: 0.145996\n",
            "Train Epoch: 5 [28800/60000 (48%)]\tLoss: 0.141420\n",
            "Train Epoch: 5 [29440/60000 (49%)]\tLoss: 0.152085\n",
            "Train Epoch: 5 [30080/60000 (50%)]\tLoss: 0.108755\n",
            "Train Epoch: 5 [30720/60000 (51%)]\tLoss: 0.132603\n",
            "Train Epoch: 5 [31360/60000 (52%)]\tLoss: 0.192479\n",
            "Train Epoch: 5 [32000/60000 (53%)]\tLoss: 0.251494\n",
            "Train Epoch: 5 [32640/60000 (54%)]\tLoss: 0.085435\n",
            "Train Epoch: 5 [33280/60000 (55%)]\tLoss: 0.128915\n",
            "Train Epoch: 5 [33920/60000 (57%)]\tLoss: 0.078678\n",
            "Train Epoch: 5 [34560/60000 (58%)]\tLoss: 0.229807\n",
            "Train Epoch: 5 [35200/60000 (59%)]\tLoss: 0.080885\n",
            "Train Epoch: 5 [35840/60000 (60%)]\tLoss: 0.210737\n",
            "Train Epoch: 5 [36480/60000 (61%)]\tLoss: 0.094927\n",
            "Train Epoch: 5 [37120/60000 (62%)]\tLoss: 0.246646\n",
            "Train Epoch: 5 [37760/60000 (63%)]\tLoss: 0.131773\n",
            "Train Epoch: 5 [38400/60000 (64%)]\tLoss: 0.182546\n",
            "Train Epoch: 5 [39040/60000 (65%)]\tLoss: 0.064357\n",
            "Train Epoch: 5 [39680/60000 (66%)]\tLoss: 0.245218\n",
            "Train Epoch: 5 [40320/60000 (67%)]\tLoss: 0.169579\n",
            "Train Epoch: 5 [40960/60000 (68%)]\tLoss: 0.220131\n",
            "Train Epoch: 5 [41600/60000 (69%)]\tLoss: 0.282582\n",
            "Train Epoch: 5 [42240/60000 (70%)]\tLoss: 0.180336\n",
            "Train Epoch: 5 [42880/60000 (71%)]\tLoss: 0.231213\n",
            "Train Epoch: 5 [43520/60000 (72%)]\tLoss: 0.270126\n",
            "Train Epoch: 5 [44160/60000 (74%)]\tLoss: 0.056031\n",
            "Train Epoch: 5 [44800/60000 (75%)]\tLoss: 0.367061\n",
            "Train Epoch: 5 [45440/60000 (76%)]\tLoss: 0.241753\n",
            "Train Epoch: 5 [46080/60000 (77%)]\tLoss: 0.170372\n",
            "Train Epoch: 5 [46720/60000 (78%)]\tLoss: 0.189111\n",
            "Train Epoch: 5 [47360/60000 (79%)]\tLoss: 0.217555\n",
            "Train Epoch: 5 [48000/60000 (80%)]\tLoss: 0.070184\n",
            "Train Epoch: 5 [48640/60000 (81%)]\tLoss: 0.108196\n",
            "Train Epoch: 5 [49280/60000 (82%)]\tLoss: 0.180940\n",
            "Train Epoch: 5 [49920/60000 (83%)]\tLoss: 0.144755\n",
            "Train Epoch: 5 [50560/60000 (84%)]\tLoss: 0.097672\n",
            "Train Epoch: 5 [51200/60000 (85%)]\tLoss: 0.063342\n",
            "Train Epoch: 5 [51840/60000 (86%)]\tLoss: 0.204098\n",
            "Train Epoch: 5 [52480/60000 (87%)]\tLoss: 0.230245\n",
            "Train Epoch: 5 [53120/60000 (88%)]\tLoss: 0.134551\n",
            "Train Epoch: 5 [53760/60000 (90%)]\tLoss: 0.091484\n",
            "Train Epoch: 5 [54400/60000 (91%)]\tLoss: 0.284452\n",
            "Train Epoch: 5 [55040/60000 (92%)]\tLoss: 0.471237\n",
            "Train Epoch: 5 [55680/60000 (93%)]\tLoss: 0.177197\n",
            "Train Epoch: 5 [56320/60000 (94%)]\tLoss: 0.091700\n",
            "Train Epoch: 5 [56960/60000 (95%)]\tLoss: 0.164915\n",
            "Train Epoch: 5 [57600/60000 (96%)]\tLoss: 0.157084\n",
            "Train Epoch: 5 [58240/60000 (97%)]\tLoss: 0.121377\n",
            "Train Epoch: 5 [58880/60000 (98%)]\tLoss: 0.090289\n",
            "Train Epoch: 5 [59520/60000 (99%)]\tLoss: 0.387097\n",
            "\n",
            "Test set: Avg. loss: 0.0600, Accuracy: 9819/10000 (98%)\n",
            "\n",
            "Train Epoch: 6 [0/60000 (0%)]\tLoss: 0.156486\n",
            "Train Epoch: 6 [640/60000 (1%)]\tLoss: 0.190121\n",
            "Train Epoch: 6 [1280/60000 (2%)]\tLoss: 0.124058\n",
            "Train Epoch: 6 [1920/60000 (3%)]\tLoss: 0.104423\n",
            "Train Epoch: 6 [2560/60000 (4%)]\tLoss: 0.047659\n",
            "Train Epoch: 6 [3200/60000 (5%)]\tLoss: 0.237089\n",
            "Train Epoch: 6 [3840/60000 (6%)]\tLoss: 0.086049\n",
            "Train Epoch: 6 [4480/60000 (7%)]\tLoss: 0.322305\n",
            "Train Epoch: 6 [5120/60000 (9%)]\tLoss: 0.154734\n",
            "Train Epoch: 6 [5760/60000 (10%)]\tLoss: 0.193684\n",
            "Train Epoch: 6 [6400/60000 (11%)]\tLoss: 0.098152\n",
            "Train Epoch: 6 [7040/60000 (12%)]\tLoss: 0.114947\n",
            "Train Epoch: 6 [7680/60000 (13%)]\tLoss: 0.026409\n",
            "Train Epoch: 6 [8320/60000 (14%)]\tLoss: 0.082717\n",
            "Train Epoch: 6 [8960/60000 (15%)]\tLoss: 0.189672\n",
            "Train Epoch: 6 [9600/60000 (16%)]\tLoss: 0.117304\n",
            "Train Epoch: 6 [10240/60000 (17%)]\tLoss: 0.395531\n",
            "Train Epoch: 6 [10880/60000 (18%)]\tLoss: 0.050261\n",
            "Train Epoch: 6 [11520/60000 (19%)]\tLoss: 0.327618\n",
            "Train Epoch: 6 [12160/60000 (20%)]\tLoss: 0.258197\n",
            "Train Epoch: 6 [12800/60000 (21%)]\tLoss: 0.109098\n",
            "Train Epoch: 6 [13440/60000 (22%)]\tLoss: 0.145045\n",
            "Train Epoch: 6 [14080/60000 (23%)]\tLoss: 0.096058\n",
            "Train Epoch: 6 [14720/60000 (25%)]\tLoss: 0.423429\n",
            "Train Epoch: 6 [15360/60000 (26%)]\tLoss: 0.189240\n",
            "Train Epoch: 6 [16000/60000 (27%)]\tLoss: 0.126166\n",
            "Train Epoch: 6 [16640/60000 (28%)]\tLoss: 0.166758\n",
            "Train Epoch: 6 [17280/60000 (29%)]\tLoss: 0.207676\n",
            "Train Epoch: 6 [17920/60000 (30%)]\tLoss: 0.411995\n",
            "Train Epoch: 6 [18560/60000 (31%)]\tLoss: 0.175192\n",
            "Train Epoch: 6 [19200/60000 (32%)]\tLoss: 0.073802\n",
            "Train Epoch: 6 [19840/60000 (33%)]\tLoss: 0.104001\n",
            "Train Epoch: 6 [20480/60000 (34%)]\tLoss: 0.040710\n",
            "Train Epoch: 6 [21120/60000 (35%)]\tLoss: 0.197334\n",
            "Train Epoch: 6 [21760/60000 (36%)]\tLoss: 0.123981\n",
            "Train Epoch: 6 [22400/60000 (37%)]\tLoss: 0.144233\n",
            "Train Epoch: 6 [23040/60000 (38%)]\tLoss: 0.056676\n",
            "Train Epoch: 6 [23680/60000 (39%)]\tLoss: 0.109659\n",
            "Train Epoch: 6 [24320/60000 (41%)]\tLoss: 0.162329\n",
            "Train Epoch: 6 [24960/60000 (42%)]\tLoss: 0.058851\n",
            "Train Epoch: 6 [25600/60000 (43%)]\tLoss: 0.174454\n",
            "Train Epoch: 6 [26240/60000 (44%)]\tLoss: 0.131495\n",
            "Train Epoch: 6 [26880/60000 (45%)]\tLoss: 0.157397\n",
            "Train Epoch: 6 [27520/60000 (46%)]\tLoss: 0.073617\n",
            "Train Epoch: 6 [28160/60000 (47%)]\tLoss: 0.158500\n",
            "Train Epoch: 6 [28800/60000 (48%)]\tLoss: 0.291028\n",
            "Train Epoch: 6 [29440/60000 (49%)]\tLoss: 0.301430\n",
            "Train Epoch: 6 [30080/60000 (50%)]\tLoss: 0.194847\n",
            "Train Epoch: 6 [30720/60000 (51%)]\tLoss: 0.321984\n",
            "Train Epoch: 6 [31360/60000 (52%)]\tLoss: 0.176862\n",
            "Train Epoch: 6 [32000/60000 (53%)]\tLoss: 0.043640\n",
            "Train Epoch: 6 [32640/60000 (54%)]\tLoss: 0.200419\n",
            "Train Epoch: 6 [33280/60000 (55%)]\tLoss: 0.153255\n",
            "Train Epoch: 6 [33920/60000 (57%)]\tLoss: 0.152117\n",
            "Train Epoch: 6 [34560/60000 (58%)]\tLoss: 0.221031\n",
            "Train Epoch: 6 [35200/60000 (59%)]\tLoss: 0.216163\n",
            "Train Epoch: 6 [35840/60000 (60%)]\tLoss: 0.162596\n",
            "Train Epoch: 6 [36480/60000 (61%)]\tLoss: 0.221990\n",
            "Train Epoch: 6 [37120/60000 (62%)]\tLoss: 0.142666\n",
            "Train Epoch: 6 [37760/60000 (63%)]\tLoss: 0.143096\n",
            "Train Epoch: 6 [38400/60000 (64%)]\tLoss: 0.107174\n",
            "Train Epoch: 6 [39040/60000 (65%)]\tLoss: 0.317373\n",
            "Train Epoch: 6 [39680/60000 (66%)]\tLoss: 0.040326\n",
            "Train Epoch: 6 [40320/60000 (67%)]\tLoss: 0.142715\n",
            "Train Epoch: 6 [40960/60000 (68%)]\tLoss: 0.130851\n",
            "Train Epoch: 6 [41600/60000 (69%)]\tLoss: 0.081940\n",
            "Train Epoch: 6 [42240/60000 (70%)]\tLoss: 0.101885\n",
            "Train Epoch: 6 [42880/60000 (71%)]\tLoss: 0.228304\n",
            "Train Epoch: 6 [43520/60000 (72%)]\tLoss: 0.290280\n",
            "Train Epoch: 6 [44160/60000 (74%)]\tLoss: 0.331143\n",
            "Train Epoch: 6 [44800/60000 (75%)]\tLoss: 0.172274\n",
            "Train Epoch: 6 [45440/60000 (76%)]\tLoss: 0.072306\n",
            "Train Epoch: 6 [46080/60000 (77%)]\tLoss: 0.097485\n",
            "Train Epoch: 6 [46720/60000 (78%)]\tLoss: 0.182972\n",
            "Train Epoch: 6 [47360/60000 (79%)]\tLoss: 0.095203\n",
            "Train Epoch: 6 [48000/60000 (80%)]\tLoss: 0.100056\n",
            "Train Epoch: 6 [48640/60000 (81%)]\tLoss: 0.269351\n",
            "Train Epoch: 6 [49280/60000 (82%)]\tLoss: 0.119312\n",
            "Train Epoch: 6 [49920/60000 (83%)]\tLoss: 0.137426\n",
            "Train Epoch: 6 [50560/60000 (84%)]\tLoss: 0.181286\n",
            "Train Epoch: 6 [51200/60000 (85%)]\tLoss: 0.329663\n",
            "Train Epoch: 6 [51840/60000 (86%)]\tLoss: 0.197347\n",
            "Train Epoch: 6 [52480/60000 (87%)]\tLoss: 0.085327\n",
            "Train Epoch: 6 [53120/60000 (88%)]\tLoss: 0.108009\n",
            "Train Epoch: 6 [53760/60000 (90%)]\tLoss: 0.133941\n",
            "Train Epoch: 6 [54400/60000 (91%)]\tLoss: 0.082403\n",
            "Train Epoch: 6 [55040/60000 (92%)]\tLoss: 0.122197\n",
            "Train Epoch: 6 [55680/60000 (93%)]\tLoss: 0.152065\n",
            "Train Epoch: 6 [56320/60000 (94%)]\tLoss: 0.436928\n",
            "Train Epoch: 6 [56960/60000 (95%)]\tLoss: 0.242864\n",
            "Train Epoch: 6 [57600/60000 (96%)]\tLoss: 0.128738\n",
            "Train Epoch: 6 [58240/60000 (97%)]\tLoss: 0.246949\n",
            "Train Epoch: 6 [58880/60000 (98%)]\tLoss: 0.156874\n",
            "Train Epoch: 6 [59520/60000 (99%)]\tLoss: 0.178016\n",
            "\n",
            "Test set: Avg. loss: 0.0504, Accuracy: 9834/10000 (98%)\n",
            "\n",
            "Train Epoch: 7 [0/60000 (0%)]\tLoss: 0.204867\n",
            "Train Epoch: 7 [640/60000 (1%)]\tLoss: 0.111033\n",
            "Train Epoch: 7 [1280/60000 (2%)]\tLoss: 0.126633\n",
            "Train Epoch: 7 [1920/60000 (3%)]\tLoss: 0.160027\n",
            "Train Epoch: 7 [2560/60000 (4%)]\tLoss: 0.138461\n",
            "Train Epoch: 7 [3200/60000 (5%)]\tLoss: 0.100252\n",
            "Train Epoch: 7 [3840/60000 (6%)]\tLoss: 0.228358\n",
            "Train Epoch: 7 [4480/60000 (7%)]\tLoss: 0.046286\n",
            "Train Epoch: 7 [5120/60000 (9%)]\tLoss: 0.141730\n",
            "Train Epoch: 7 [5760/60000 (10%)]\tLoss: 0.103872\n",
            "Train Epoch: 7 [6400/60000 (11%)]\tLoss: 0.116234\n",
            "Train Epoch: 7 [7040/60000 (12%)]\tLoss: 0.104235\n",
            "Train Epoch: 7 [7680/60000 (13%)]\tLoss: 0.292805\n",
            "Train Epoch: 7 [8320/60000 (14%)]\tLoss: 0.049474\n",
            "Train Epoch: 7 [8960/60000 (15%)]\tLoss: 0.127190\n",
            "Train Epoch: 7 [9600/60000 (16%)]\tLoss: 0.128794\n",
            "Train Epoch: 7 [10240/60000 (17%)]\tLoss: 0.143054\n",
            "Train Epoch: 7 [10880/60000 (18%)]\tLoss: 0.232061\n",
            "Train Epoch: 7 [11520/60000 (19%)]\tLoss: 0.240850\n",
            "Train Epoch: 7 [12160/60000 (20%)]\tLoss: 0.127221\n",
            "Train Epoch: 7 [12800/60000 (21%)]\tLoss: 0.086500\n",
            "Train Epoch: 7 [13440/60000 (22%)]\tLoss: 0.145412\n",
            "Train Epoch: 7 [14080/60000 (23%)]\tLoss: 0.125919\n",
            "Train Epoch: 7 [14720/60000 (25%)]\tLoss: 0.480600\n",
            "Train Epoch: 7 [15360/60000 (26%)]\tLoss: 0.159716\n",
            "Train Epoch: 7 [16000/60000 (27%)]\tLoss: 0.096904\n",
            "Train Epoch: 7 [16640/60000 (28%)]\tLoss: 0.073417\n",
            "Train Epoch: 7 [17280/60000 (29%)]\tLoss: 0.070158\n",
            "Train Epoch: 7 [17920/60000 (30%)]\tLoss: 0.268334\n",
            "Train Epoch: 7 [18560/60000 (31%)]\tLoss: 0.253039\n",
            "Train Epoch: 7 [19200/60000 (32%)]\tLoss: 0.161553\n",
            "Train Epoch: 7 [19840/60000 (33%)]\tLoss: 0.124665\n",
            "Train Epoch: 7 [20480/60000 (34%)]\tLoss: 0.080343\n",
            "Train Epoch: 7 [21120/60000 (35%)]\tLoss: 0.091458\n",
            "Train Epoch: 7 [21760/60000 (36%)]\tLoss: 0.140019\n",
            "Train Epoch: 7 [22400/60000 (37%)]\tLoss: 0.153214\n",
            "Train Epoch: 7 [23040/60000 (38%)]\tLoss: 0.159790\n",
            "Train Epoch: 7 [23680/60000 (39%)]\tLoss: 0.100618\n",
            "Train Epoch: 7 [24320/60000 (41%)]\tLoss: 0.130553\n",
            "Train Epoch: 7 [24960/60000 (42%)]\tLoss: 0.087971\n",
            "Train Epoch: 7 [25600/60000 (43%)]\tLoss: 0.081309\n",
            "Train Epoch: 7 [26240/60000 (44%)]\tLoss: 0.104055\n",
            "Train Epoch: 7 [26880/60000 (45%)]\tLoss: 0.226767\n",
            "Train Epoch: 7 [27520/60000 (46%)]\tLoss: 0.152454\n",
            "Train Epoch: 7 [28160/60000 (47%)]\tLoss: 0.157127\n",
            "Train Epoch: 7 [28800/60000 (48%)]\tLoss: 0.234102\n",
            "Train Epoch: 7 [29440/60000 (49%)]\tLoss: 0.453696\n",
            "Train Epoch: 7 [30080/60000 (50%)]\tLoss: 0.123597\n",
            "Train Epoch: 7 [30720/60000 (51%)]\tLoss: 0.069496\n",
            "Train Epoch: 7 [31360/60000 (52%)]\tLoss: 0.219047\n",
            "Train Epoch: 7 [32000/60000 (53%)]\tLoss: 0.326240\n",
            "Train Epoch: 7 [32640/60000 (54%)]\tLoss: 0.127410\n",
            "Train Epoch: 7 [33280/60000 (55%)]\tLoss: 0.227418\n",
            "Train Epoch: 7 [33920/60000 (57%)]\tLoss: 0.197616\n",
            "Train Epoch: 7 [34560/60000 (58%)]\tLoss: 0.208800\n",
            "Train Epoch: 7 [35200/60000 (59%)]\tLoss: 0.096685\n",
            "Train Epoch: 7 [35840/60000 (60%)]\tLoss: 0.137458\n",
            "Train Epoch: 7 [36480/60000 (61%)]\tLoss: 0.255565\n",
            "Train Epoch: 7 [37120/60000 (62%)]\tLoss: 0.153569\n",
            "Train Epoch: 7 [37760/60000 (63%)]\tLoss: 0.131003\n",
            "Train Epoch: 7 [38400/60000 (64%)]\tLoss: 0.113343\n",
            "Train Epoch: 7 [39040/60000 (65%)]\tLoss: 0.159605\n",
            "Train Epoch: 7 [39680/60000 (66%)]\tLoss: 0.065293\n",
            "Train Epoch: 7 [40320/60000 (67%)]\tLoss: 0.187396\n",
            "Train Epoch: 7 [40960/60000 (68%)]\tLoss: 0.158503\n",
            "Train Epoch: 7 [41600/60000 (69%)]\tLoss: 0.107180\n",
            "Train Epoch: 7 [42240/60000 (70%)]\tLoss: 0.163955\n",
            "Train Epoch: 7 [42880/60000 (71%)]\tLoss: 0.124615\n",
            "Train Epoch: 7 [43520/60000 (72%)]\tLoss: 0.149926\n",
            "Train Epoch: 7 [44160/60000 (74%)]\tLoss: 0.058201\n",
            "Train Epoch: 7 [44800/60000 (75%)]\tLoss: 0.033676\n",
            "Train Epoch: 7 [45440/60000 (76%)]\tLoss: 0.184517\n",
            "Train Epoch: 7 [46080/60000 (77%)]\tLoss: 0.197323\n",
            "Train Epoch: 7 [46720/60000 (78%)]\tLoss: 0.220359\n",
            "Train Epoch: 7 [47360/60000 (79%)]\tLoss: 0.113391\n",
            "Train Epoch: 7 [48000/60000 (80%)]\tLoss: 0.096922\n",
            "Train Epoch: 7 [48640/60000 (81%)]\tLoss: 0.189672\n",
            "Train Epoch: 7 [49280/60000 (82%)]\tLoss: 0.108059\n",
            "Train Epoch: 7 [49920/60000 (83%)]\tLoss: 0.260463\n",
            "Train Epoch: 7 [50560/60000 (84%)]\tLoss: 0.266847\n",
            "Train Epoch: 7 [51200/60000 (85%)]\tLoss: 0.059002\n",
            "Train Epoch: 7 [51840/60000 (86%)]\tLoss: 0.123524\n",
            "Train Epoch: 7 [52480/60000 (87%)]\tLoss: 0.111024\n",
            "Train Epoch: 7 [53120/60000 (88%)]\tLoss: 0.189900\n",
            "Train Epoch: 7 [53760/60000 (90%)]\tLoss: 0.123846\n",
            "Train Epoch: 7 [54400/60000 (91%)]\tLoss: 0.082198\n",
            "Train Epoch: 7 [55040/60000 (92%)]\tLoss: 0.076403\n",
            "Train Epoch: 7 [55680/60000 (93%)]\tLoss: 0.169173\n",
            "Train Epoch: 7 [56320/60000 (94%)]\tLoss: 0.047243\n",
            "Train Epoch: 7 [56960/60000 (95%)]\tLoss: 0.341809\n",
            "Train Epoch: 7 [57600/60000 (96%)]\tLoss: 0.145646\n",
            "Train Epoch: 7 [58240/60000 (97%)]\tLoss: 0.148642\n",
            "Train Epoch: 7 [58880/60000 (98%)]\tLoss: 0.273009\n",
            "Train Epoch: 7 [59520/60000 (99%)]\tLoss: 0.080120\n",
            "\n",
            "Test set: Avg. loss: 0.0503, Accuracy: 9833/10000 (98%)\n",
            "\n",
            "Train Epoch: 8 [0/60000 (0%)]\tLoss: 0.139202\n",
            "Train Epoch: 8 [640/60000 (1%)]\tLoss: 0.087858\n",
            "Train Epoch: 8 [1280/60000 (2%)]\tLoss: 0.206615\n",
            "Train Epoch: 8 [1920/60000 (3%)]\tLoss: 0.132788\n",
            "Train Epoch: 8 [2560/60000 (4%)]\tLoss: 0.108797\n",
            "Train Epoch: 8 [3200/60000 (5%)]\tLoss: 0.375275\n",
            "Train Epoch: 8 [3840/60000 (6%)]\tLoss: 0.032502\n",
            "Train Epoch: 8 [4480/60000 (7%)]\tLoss: 0.330024\n",
            "Train Epoch: 8 [5120/60000 (9%)]\tLoss: 0.143529\n",
            "Train Epoch: 8 [5760/60000 (10%)]\tLoss: 0.161291\n",
            "Train Epoch: 8 [6400/60000 (11%)]\tLoss: 0.286311\n",
            "Train Epoch: 8 [7040/60000 (12%)]\tLoss: 0.236461\n",
            "Train Epoch: 8 [7680/60000 (13%)]\tLoss: 0.179544\n",
            "Train Epoch: 8 [8320/60000 (14%)]\tLoss: 0.225317\n",
            "Train Epoch: 8 [8960/60000 (15%)]\tLoss: 0.196858\n",
            "Train Epoch: 8 [9600/60000 (16%)]\tLoss: 0.189224\n",
            "Train Epoch: 8 [10240/60000 (17%)]\tLoss: 0.189602\n",
            "Train Epoch: 8 [10880/60000 (18%)]\tLoss: 0.119345\n",
            "Train Epoch: 8 [11520/60000 (19%)]\tLoss: 0.283485\n",
            "Train Epoch: 8 [12160/60000 (20%)]\tLoss: 0.157661\n",
            "Train Epoch: 8 [12800/60000 (21%)]\tLoss: 0.247928\n",
            "Train Epoch: 8 [13440/60000 (22%)]\tLoss: 0.259169\n",
            "Train Epoch: 8 [14080/60000 (23%)]\tLoss: 0.164965\n",
            "Train Epoch: 8 [14720/60000 (25%)]\tLoss: 0.038709\n",
            "Train Epoch: 8 [15360/60000 (26%)]\tLoss: 0.322581\n",
            "Train Epoch: 8 [16000/60000 (27%)]\tLoss: 0.071895\n",
            "Train Epoch: 8 [16640/60000 (28%)]\tLoss: 0.246134\n",
            "Train Epoch: 8 [17280/60000 (29%)]\tLoss: 0.071175\n",
            "Train Epoch: 8 [17920/60000 (30%)]\tLoss: 0.159780\n",
            "Train Epoch: 8 [18560/60000 (31%)]\tLoss: 0.196728\n",
            "Train Epoch: 8 [19200/60000 (32%)]\tLoss: 0.222344\n",
            "Train Epoch: 8 [19840/60000 (33%)]\tLoss: 0.106419\n",
            "Train Epoch: 8 [20480/60000 (34%)]\tLoss: 0.132280\n",
            "Train Epoch: 8 [21120/60000 (35%)]\tLoss: 0.121668\n",
            "Train Epoch: 8 [21760/60000 (36%)]\tLoss: 0.089311\n",
            "Train Epoch: 8 [22400/60000 (37%)]\tLoss: 0.079274\n",
            "Train Epoch: 8 [23040/60000 (38%)]\tLoss: 0.212301\n",
            "Train Epoch: 8 [23680/60000 (39%)]\tLoss: 0.195620\n",
            "Train Epoch: 8 [24320/60000 (41%)]\tLoss: 0.237656\n",
            "Train Epoch: 8 [24960/60000 (42%)]\tLoss: 0.095352\n",
            "Train Epoch: 8 [25600/60000 (43%)]\tLoss: 0.100042\n",
            "Train Epoch: 8 [26240/60000 (44%)]\tLoss: 0.099481\n",
            "Train Epoch: 8 [26880/60000 (45%)]\tLoss: 0.184389\n",
            "Train Epoch: 8 [27520/60000 (46%)]\tLoss: 0.137646\n",
            "Train Epoch: 8 [28160/60000 (47%)]\tLoss: 0.080499\n",
            "Train Epoch: 8 [28800/60000 (48%)]\tLoss: 0.215751\n",
            "Train Epoch: 8 [29440/60000 (49%)]\tLoss: 0.256603\n",
            "Train Epoch: 8 [30080/60000 (50%)]\tLoss: 0.136319\n",
            "Train Epoch: 8 [30720/60000 (51%)]\tLoss: 0.366786\n",
            "Train Epoch: 8 [31360/60000 (52%)]\tLoss: 0.067855\n",
            "Train Epoch: 8 [32000/60000 (53%)]\tLoss: 0.097492\n",
            "Train Epoch: 8 [32640/60000 (54%)]\tLoss: 0.083473\n",
            "Train Epoch: 8 [33280/60000 (55%)]\tLoss: 0.221599\n",
            "Train Epoch: 8 [33920/60000 (57%)]\tLoss: 0.283144\n",
            "Train Epoch: 8 [34560/60000 (58%)]\tLoss: 0.111922\n",
            "Train Epoch: 8 [35200/60000 (59%)]\tLoss: 0.123495\n",
            "Train Epoch: 8 [35840/60000 (60%)]\tLoss: 0.150686\n",
            "Train Epoch: 8 [36480/60000 (61%)]\tLoss: 0.160214\n",
            "Train Epoch: 8 [37120/60000 (62%)]\tLoss: 0.348904\n",
            "Train Epoch: 8 [37760/60000 (63%)]\tLoss: 0.137029\n",
            "Train Epoch: 8 [38400/60000 (64%)]\tLoss: 0.096941\n",
            "Train Epoch: 8 [39040/60000 (65%)]\tLoss: 0.097811\n",
            "Train Epoch: 8 [39680/60000 (66%)]\tLoss: 0.111762\n",
            "Train Epoch: 8 [40320/60000 (67%)]\tLoss: 0.085979\n",
            "Train Epoch: 8 [40960/60000 (68%)]\tLoss: 0.284537\n",
            "Train Epoch: 8 [41600/60000 (69%)]\tLoss: 0.247853\n",
            "Train Epoch: 8 [42240/60000 (70%)]\tLoss: 0.308917\n",
            "Train Epoch: 8 [42880/60000 (71%)]\tLoss: 0.042475\n",
            "Train Epoch: 8 [43520/60000 (72%)]\tLoss: 0.155097\n",
            "Train Epoch: 8 [44160/60000 (74%)]\tLoss: 0.170180\n",
            "Train Epoch: 8 [44800/60000 (75%)]\tLoss: 0.184941\n",
            "Train Epoch: 8 [45440/60000 (76%)]\tLoss: 0.092757\n",
            "Train Epoch: 8 [46080/60000 (77%)]\tLoss: 0.080458\n",
            "Train Epoch: 8 [46720/60000 (78%)]\tLoss: 0.161214\n",
            "Train Epoch: 8 [47360/60000 (79%)]\tLoss: 0.169420\n",
            "Train Epoch: 8 [48000/60000 (80%)]\tLoss: 0.161865\n",
            "Train Epoch: 8 [48640/60000 (81%)]\tLoss: 0.133012\n",
            "Train Epoch: 8 [49280/60000 (82%)]\tLoss: 0.074337\n",
            "Train Epoch: 8 [49920/60000 (83%)]\tLoss: 0.127080\n",
            "Train Epoch: 8 [50560/60000 (84%)]\tLoss: 0.169493\n",
            "Train Epoch: 8 [51200/60000 (85%)]\tLoss: 0.142288\n",
            "Train Epoch: 8 [51840/60000 (86%)]\tLoss: 0.040049\n",
            "Train Epoch: 8 [52480/60000 (87%)]\tLoss: 0.176561\n",
            "Train Epoch: 8 [53120/60000 (88%)]\tLoss: 0.103660\n",
            "Train Epoch: 8 [53760/60000 (90%)]\tLoss: 0.264414\n",
            "Train Epoch: 8 [54400/60000 (91%)]\tLoss: 0.183275\n",
            "Train Epoch: 8 [55040/60000 (92%)]\tLoss: 0.229119\n",
            "Train Epoch: 8 [55680/60000 (93%)]\tLoss: 0.246018\n",
            "Train Epoch: 8 [56320/60000 (94%)]\tLoss: 0.284919\n",
            "Train Epoch: 8 [56960/60000 (95%)]\tLoss: 0.095056\n",
            "Train Epoch: 8 [57600/60000 (96%)]\tLoss: 0.129889\n",
            "Train Epoch: 8 [58240/60000 (97%)]\tLoss: 0.293099\n",
            "Train Epoch: 8 [58880/60000 (98%)]\tLoss: 0.227806\n",
            "Train Epoch: 8 [59520/60000 (99%)]\tLoss: 0.114177\n",
            "\n",
            "Test set: Avg. loss: 0.0476, Accuracy: 9842/10000 (98%)\n",
            "\n"
          ],
          "name": "stdout"
        }
      ]
    },
    {
      "cell_type": "markdown",
      "metadata": {
        "id": "Zf90BuwP-lx3"
      },
      "source": [
        "Wspaniały! Ponownie obserwujemy (znacznie wolniejszy) wzrost dokładności zestawu testowego z epoki na epokę. Wyobraźmy sobie to, aby dokładniej przyjrzeć się postępom w szkoleniu."
      ]
    },
    {
      "cell_type": "code",
      "metadata": {
        "colab": {
          "base_uri": "https://localhost:8080/",
          "height": 541
        },
        "id": "bG576OpW-per",
        "outputId": "c911cd64-33d0-4fce-a83f-3fb4050e1bc6"
      },
      "source": [
        "fig = plt.figure()\n",
        "plt.plot(train_counter, train_losses, color='blue')\n",
        "# plt.scatter(test_counter, test_losses, color='red')\n",
        "plt.legend(['Train Loss', 'Test Loss'], loc='upper right')\n",
        "plt.xlabel('number of training examples seen')\n",
        "plt.ylabel('negative log likelihood loss')\n",
        "fig"
      ],
      "execution_count": null,
      "outputs": [
        {
          "output_type": "execute_result",
          "data": {
            "image/png": "[encoded data removed]",
            "text/plain": [
              "<Figure size 432x288 with 1 Axes>"
            ]
          },
          "metadata": {
            "tags": []
          },
          "execution_count": 45
        },
        {
          "output_type": "display_data",
          "data": {
            "image/png": "[encoded data removed]",
            "text/plain": [
              "<Figure size 432x288 with 1 Axes>"
            ]
          },
          "metadata": {
            "tags": [],
            "needs_background": "light"
          }
        }
      ]
    },
    {
      "cell_type": "markdown",
      "metadata": {
        "id": "vMYQlz-d-upA"
      },
      "source": [
        "To nadal wygląda na dość płynną krzywą uczenia się, tak jakbyśmy początkowo trenowaną przez 8 epok! Pamiętaj, że po prostu dodaliśmy wartości do tych samych list, zaczynając od piątej czerwonej kropki i dalej.\n",
        "\n",
        "Z tego możemy wywnioskować dwie rzeczy:\n",
        "\n",
        "1. Kontynuacja z punktu kontrolnego stanu wewnętrznego działała zgodnie z przeznaczeniem.\n",
        "\n",
        "2. Nadal nie mamy problemów z przesadnym dopasowaniem! Wygląda na to, że nasze warstwy odrzucania wykonały dobrą robotę regulując model.\n",
        "\n",
        "Podsumowując, zbudowaliśmy nowe środowisko za pomocą PyTorch i TorchVision, użyliśmy go do klasyfikowania odręcznych cyfr ze zbioru danych MNIST i mamy nadzieję, że rozwinęliśmy dobrą intuicję przy użyciu PyTorch."
      ]
    }
  ]
}